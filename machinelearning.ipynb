{
  "nbformat": 4,
  "nbformat_minor": 0,
  "metadata": {
    "colab": {
      "name": "machinelearning.ipynb",
      "provenance": [],
      "collapsed_sections": [],
      "include_colab_link": true
    },
    "kernelspec": {
      "name": "python3",
      "display_name": "Python 3"
    },
    "language_info": {
      "name": "python"
    }
  },
  "cells": [
    {
      "cell_type": "markdown",
      "metadata": {
        "id": "view-in-github",
        "colab_type": "text"
      },
      "source": [
        "<a href=\"https://colab.research.google.com/github/NelsonSSoares/Ciencia-de-Dadosu9/blob/main/machinelearning.ipynb\" target=\"_parent\"><img src=\"https://colab.research.google.com/assets/colab-badge.svg\" alt=\"Open In Colab\"/></a>"
      ]
    },
    {
      "cell_type": "markdown",
      "metadata": {
        "id": "4_1SODh6BGPR"
      },
      "source": [
        "## Pergunta: você sabe identificar o que é um gato ou um cachorro?\n",
        "\n",
        "### Definição do problema\n",
        "\n",
        "* o que queremos classificar?\n",
        "* quais características diferenciam o conjunto?\n",
        "* falsos positivos e falsos negativos\n",
        "* eliminação de objetos (se não é um gato, então é um cachorro)\n",
        "\n",
        "<p>Vamos tomar o <strong>gato</strong> como referência!!!</p>\n",
        "<p> A <strong><em>Priori</strong></em> vamos selecionar três gatos para descrever nosso conjunto e tabular três características:</p>\n",
        "\n",
        "<table>\n",
        "    <tr>\n",
        "        <td colspan=\"4\"  align=\"center\">GATOS</td>\n",
        "    </tr>\n",
        "    <tr>\n",
        "        <td>Animal</td>\n",
        "        <td>É fofinho?</td>\n",
        "        <td>Tem orelha pequena?</td>\n",
        "        <td>Faz miau?</td>\n",
        "    </tr>\n",
        "    <tr>\n",
        "        <td>Gato 1</td>\n",
        "        <td align=\"center\">1</td>\n",
        "        <td align=\"center\">1</td>\n",
        "        <td align=\"center\">1</td>\n",
        "    </tr>\n",
        "    <tr>\n",
        "        <td>Gato 2</td>\n",
        "        <td align=\"center\">1</td>\n",
        "        <td align=\"center\">0</td>\n",
        "        <td align=\"center\">1</td>\n",
        "    </tr>\n",
        "    <tr>\n",
        "        <td>Gato 3</td>\n",
        "        <td align=\"center\">0</td>\n",
        "        <td align=\"center\">1</td>\n",
        "        <td align=\"center\">1</td>\n",
        "    </tr>\n",
        "</table>\n",
        "\n",
        "<p>Vamos definir agora nosso cachorros.</p>\n",
        "<table>\n",
        "    <tr>\n",
        "        <td colspan=\"4\"  align=\"center\">CACHORROS</td>\n",
        "    </tr>\n",
        "    <tr>\n",
        "        <td>Animal</td>\n",
        "        <td>É fofinho?</td>\n",
        "        <td>Tem orelha pequena?</td>\n",
        "        <td>Faz miau?</td>\n",
        "    </tr>\n",
        "    <tr>\n",
        "        <td>Cachorro 1</td>\n",
        "        <td align=\"center\">1</td>\n",
        "        <td align=\"center\">1</td>\n",
        "        <td align=\"center\">0</td>\n",
        "    </tr>\n",
        "    <tr>\n",
        "        <td>Cachorro 2</td>\n",
        "        <td align=\"center\">0</td>\n",
        "        <td align=\"center\">1</td>\n",
        "        <td align=\"center\">0</td>\n",
        "    </tr>\n",
        "    <tr>\n",
        "        <td>Cachorro 3</td>\n",
        "        <td align=\"center\">0</td>\n",
        "        <td align=\"center\">1</td>\n",
        "        <td align=\"center\">0</td>\n",
        "    </tr>\n",
        "</table>"
      ]
    },
    {
      "cell_type": "code",
      "metadata": {
        "id": "Q-9v0LMlHalq"
      },
      "source": [
        "# Função para melhor a leitura da saída do ML\n",
        "def legenda(lista):\n",
        "  retorno = []\n",
        "  lista_animais = [ [1, 'Gato'], [2, 'Cachorro'] ]\n",
        "\n",
        "  for posicao in lista:\n",
        "    if(posicao == 1):\n",
        "      retorno.append(lista_animais[0][1])\n",
        "    else:\n",
        "      retorno.append(lista_animais[1][1])\n",
        "  return retorno"
      ],
      "execution_count": null,
      "outputs": []
    },
    {
      "cell_type": "code",
      "metadata": {
        "id": "eJYBVirl_kQ0"
      },
      "source": [
        "# Montando o problema\n",
        "# Animal\tÉ fofinho?\tTem orelha pequena?\tFaz miau?\n",
        "animal1 = [1, 1, 1]\n",
        "animal2 = [1, 0, 1]\n",
        "animal3 = [0, 1, 1]\n",
        "\n",
        "animal4 = [1, 1, 0]\n",
        "animal5 = [0, 1, 0]\n",
        "animal6 = [0, 1, 0]"
      ],
      "execution_count": null,
      "outputs": []
    },
    {
      "cell_type": "code",
      "metadata": {
        "id": "4Ehv6V3zF4t6"
      },
      "source": [
        "# Definir o conjunto de dados (conjunto de treinamento)\n",
        "conjunto_animais = [\n",
        "                    animal1, animal2, animal3,\n",
        "                    animal4, animal5, animal6\n",
        "                  ]"
      ],
      "execution_count": null,
      "outputs": []
    },
    {
      "cell_type": "code",
      "metadata": {
        "id": "oA-a7UxHGM8h"
      },
      "source": [
        "# Falar para o algoritmo quem é quem nas paradas de sucesso!!!!\n",
        "# -1 0 1\n",
        "convencao_animais = [1, 1, 1, -1, -1, -1] # conjunto de teste"
      ],
      "execution_count": null,
      "outputs": []
    },
    {
      "cell_type": "code",
      "metadata": {
        "id": "Vpjy6ee9GPPu"
      },
      "source": [
        "# Aplicar Modelo de ML (Machine Learning)\n",
        "# importar uma biblioteca \"marota\" SKLearn:\n",
        "# Documentação: https://scikit-learn.org/stable/"
      ],
      "execution_count": null,
      "outputs": []
    },
    {
      "cell_type": "code",
      "metadata": {
        "id": "7tUNZkHxJlIt"
      },
      "source": [
        "# Naive Bayes\n",
        "from sklearn.naive_bayes import MultinomialNB\n",
        "import numpy as np\n",
        "import warnings\n",
        "warnings.filterwarnings('ignore')"
      ],
      "execution_count": null,
      "outputs": []
    },
    {
      "cell_type": "code",
      "metadata": {
        "id": "r4ZASnm1OnAf"
      },
      "source": [
        "# criar um modelo\n",
        "model_nb = MultinomialNB()"
      ],
      "execution_count": null,
      "outputs": []
    },
    {
      "cell_type": "code",
      "metadata": {
        "colab": {
          "base_uri": "https://localhost:8080/"
        },
        "id": "bbC8KgrPPOJi",
        "outputId": "a3727529-a721-40e5-b819-96647e09d18e"
      },
      "source": [
        "# Aprendizado -> Treinamento do Modelo\n",
        "# x é o conjunto de treinamento e y o de teste\n",
        "model_nb.fit(conjunto_animais, convencao_animais)"
      ],
      "execution_count": null,
      "outputs": [
        {
          "output_type": "execute_result",
          "data": {
            "text/plain": [
              "MultinomialNB(alpha=1.0, class_prior=None, fit_prior=True)"
            ]
          },
          "metadata": {},
          "execution_count": 39
        }
      ]
    },
    {
      "cell_type": "code",
      "metadata": {
        "colab": {
          "base_uri": "https://localhost:8080/"
        },
        "id": "4ZPPrgmbQJbw",
        "outputId": "6ffe3813-b717-47c7-9f69-9e243e365092"
      },
      "source": [
        "# Vamos ver o quanto ele generalizou?\n",
        "# Coeficientes de aprendizagem\n",
        "model_nb.coef_"
      ],
      "execution_count": null,
      "outputs": [
        {
          "output_type": "execute_result",
          "data": {
            "text/plain": [
              "array([[-1.2039728 , -1.2039728 , -0.91629073]])"
            ]
          },
          "metadata": {},
          "execution_count": 40
        }
      ]
    },
    {
      "cell_type": "code",
      "metadata": {
        "colab": {
          "base_uri": "https://localhost:8080/"
        },
        "id": "aoVNQIPgRAKv",
        "outputId": "f57c4790-b75b-457c-d07c-2a1aab4346e9"
      },
      "source": [
        "# Vamos predizer um conjunto de dados \"não\" conhecido\n",
        "teste_1 = [1, 1, 1] # cat\n",
        "teste_2 = [1, 0, 0] # dog\n",
        "teste_3 = [0, 0, 1] # cat\n",
        "conjunto_teste = [teste_1, teste_2, teste_3]\n",
        "\n",
        "# 1, -1, 1\n",
        "legenda(model_nb.predict(conjunto_teste))"
      ],
      "execution_count": null,
      "outputs": [
        {
          "output_type": "execute_result",
          "data": {
            "text/plain": [
              "['Gato', 'Gato', 'Gato']"
            ]
          },
          "metadata": {},
          "execution_count": 41
        }
      ]
    },
    {
      "cell_type": "code",
      "metadata": {
        "id": "LNg6ZqNHTOUG"
      },
      "source": [
        "# Com base no modelo de aprendizagem, houve um acerto de 66,66%\n",
        "# ou seja, 2/3 de acerto. Assim, o modelo é \"razoável\"."
      ],
      "execution_count": null,
      "outputs": []
    },
    {
      "cell_type": "code",
      "metadata": {
        "id": "VB8YN17LWpPQ"
      },
      "source": [
        "# Outros classificadores\n",
        "from sklearn.neighbors import KNeighborsClassifier\n",
        "from sklearn.linear_model import LogisticRegression\n",
        "from sklearn.naive_bayes import GaussianNB\n",
        "from sklearn.tree import DecisionTreeClassifier"
      ],
      "execution_count": null,
      "outputs": []
    },
    {
      "cell_type": "code",
      "metadata": {
        "id": "H5kK3vM3WwNm"
      },
      "source": [
        "tree = DecisionTreeClassifier(max_depth=10)\n",
        "knn = KNeighborsClassifier(n_neighbors=5)\n",
        "logreg = LogisticRegression()\n",
        "gnb = GaussianNB()"
      ],
      "execution_count": null,
      "outputs": []
    },
    {
      "cell_type": "code",
      "metadata": {
        "id": "b_WUuVcGYE__"
      },
      "source": [
        "# Conjunto de testes para predição\n",
        "teste_1 = [1, 1, 1] # cat\n",
        "teste_2 = [1, 0, 0] # dog\n",
        "teste_3 = [0, 0, 1] # cat\n",
        "conjunto_teste = [teste_1, teste_2, teste_3]"
      ],
      "execution_count": null,
      "outputs": []
    },
    {
      "cell_type": "markdown",
      "metadata": {
        "id": "lBApVwRyZrGh"
      },
      "source": [
        "![legenda](https://www.researchgate.net/profile/Jorge_Ramos7/publication/312605379/figure/fig6/AS:453719444725761@1485186553048/Figura-9-Exemplo-de-Arvore-de-Decisao.png)"
      ]
    },
    {
      "cell_type": "code",
      "metadata": {
        "colab": {
          "base_uri": "https://localhost:8080/"
        },
        "id": "wT18Nu_jXtAb",
        "outputId": "d7bacfb3-3426-4822-84c5-bb67314f2477"
      },
      "source": [
        "# treino\n",
        "tree.fit(conjunto_animais, convencao_animais)\n",
        "\n",
        "#predição\n",
        "legenda(tree.predict(conjunto_teste))"
      ],
      "execution_count": null,
      "outputs": [
        {
          "output_type": "execute_result",
          "data": {
            "text/plain": [
              "['Gato', 'Cachorro', 'Gato']"
            ]
          },
          "metadata": {},
          "execution_count": 47
        }
      ]
    },
    {
      "cell_type": "markdown",
      "metadata": {
        "id": "03bi68_lapSX"
      },
      "source": [
        "![legenda](http://res.cloudinary.com/dyd911kmh/image/upload/f_auto,q_auto:best/v1531424125/KNN_final1_ibdm8a.png)"
      ]
    },
    {
      "cell_type": "code",
      "metadata": {
        "colab": {
          "base_uri": "https://localhost:8080/"
        },
        "id": "VdKnUvr3YNzB",
        "outputId": "851bdfe4-a330-4ac6-eda2-71fa36757c3e"
      },
      "source": [
        "# treino\n",
        "knn.fit(conjunto_animais, convencao_animais)\n",
        "\n",
        "#predição\n",
        "legenda(knn.predict(conjunto_teste))"
      ],
      "execution_count": null,
      "outputs": [
        {
          "output_type": "execute_result",
          "data": {
            "text/plain": [
              "['Gato', 'Cachorro', 'Gato']"
            ]
          },
          "metadata": {},
          "execution_count": 48
        }
      ]
    },
    {
      "cell_type": "markdown",
      "metadata": {
        "id": "gWJCSNmPbpMC"
      },
      "source": [
        "![legenda](https://matheusfacure.github.io/img/tutorial/perceptron1.gif)"
      ]
    },
    {
      "cell_type": "code",
      "metadata": {
        "colab": {
          "base_uri": "https://localhost:8080/"
        },
        "id": "Wn9F29q6Ybte",
        "outputId": "01384b24-dfdc-45f7-805b-5044b36b6c82"
      },
      "source": [
        "# treino\n",
        "logreg.fit(conjunto_animais, convencao_animais)\n",
        "\n",
        "#predição\n",
        "legenda(logreg.predict(conjunto_teste))"
      ],
      "execution_count": null,
      "outputs": [
        {
          "output_type": "execute_result",
          "data": {
            "text/plain": [
              "['Gato', 'Cachorro', 'Gato']"
            ]
          },
          "metadata": {},
          "execution_count": 49
        }
      ]
    },
    {
      "cell_type": "markdown",
      "metadata": {
        "id": "pUog3cEudHGe"
      },
      "source": [
        "![legenda](https://www.astroml.org/_images/fig_simple_naivebayes_1.png)"
      ]
    },
    {
      "cell_type": "code",
      "metadata": {
        "colab": {
          "base_uri": "https://localhost:8080/"
        },
        "id": "8pjSPeo6Ymxh",
        "outputId": "33a08da3-7b9f-4ba8-a9bf-dde55f4eb053"
      },
      "source": [
        "# treino\n",
        "gnb.fit(conjunto_animais, convencao_animais)\n",
        "\n",
        "#predição\n",
        "legenda(gnb.predict(conjunto_teste))"
      ],
      "execution_count": null,
      "outputs": [
        {
          "output_type": "execute_result",
          "data": {
            "text/plain": [
              "['Gato', 'Cachorro', 'Gato']"
            ]
          },
          "metadata": {},
          "execution_count": 50
        }
      ]
    },
    {
      "cell_type": "code",
      "metadata": {
        "id": "civxPQV6Yt72"
      },
      "source": [
        ""
      ],
      "execution_count": null,
      "outputs": []
    }
  ]
}