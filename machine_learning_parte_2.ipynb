{
 "cells": [
  {
   "cell_type": "markdown",
   "metadata": {
    "slideshow": {
     "slide_type": "slide"
    }
   },
   "source": [
    "# Aula 10 - *Machine Learning*\n",
    "\n",
    "**Objetivo**: Aprender o que é *Machine Learning* e quais são os componentes de um algoritmo de ML."
   ]
  },
  {
   "cell_type": "markdown",
   "metadata": {
    "slideshow": {
     "slide_type": "slide"
    }
   },
   "source": [
    "## Defininição - *Machine Learning*\n",
    "\n",
    "*Machine Learning* é uma área de estudo que fornece aos computadores a habilidade de aprender sem serem explicitamente programados.\n",
    "\n",
    "> Um programa de computador que aprende a partir da experiência E em relação a algum tipo de tarefa T e alguma medida de desempenho P, se o seu desempenho em T, conforme medido por P, melhor com a experiência E.\n",
    "\n",
    "Mitchell, T. M. (1997). Machine Learning. McGraw-Hill, New York."
   ]
  },
  {
   "cell_type": "markdown",
   "metadata": {
    "slideshow": {
     "slide_type": "subslide"
    }
   },
   "source": [
    "### Experiência (E)\n",
    "\n",
    "Em *Machine Learning* um programa de computador aprende sem ser explicitamente programado. Ele aprende a partir de um conjunto de dados que expressa toda *experiência* (E) que desejamos ensina-lo. Esse conjunto de dados é chamado de **conjunto de treinamento**. \n",
    "\n",
    "* **Aprendizagem Supervisionada**: o conjunto de treinamento é composto por amostras de entradas/saídas.\n",
    "* **Aprendizagem Não-Supervisionada**:  conjunto de treinamento é composto por amostras de entradas apenas."
   ]
  },
  {
   "cell_type": "markdown",
   "metadata": {
    "slideshow": {
     "slide_type": "subslide"
    }
   },
   "source": [
    "### Tarefas (T)\n",
    "\n",
    "* Classificação - Supervisionada qualitativa\n",
    "* Regressão - Supervisionada quantitativa\n",
    "* Agrupamento - Não-supervisionada"
   ]
  },
  {
   "cell_type": "markdown",
   "metadata": {
    "slideshow": {
     "slide_type": "subslide"
    }
   },
   "source": [
    "### Desempenho (P)\n",
    "\n",
    "Para medir o desempenho de um algoritmo de Machine Learning é preciso de uma medida de desempenho para mensurar a qualidade do processo de aprendizagem. Essa medida é conhecida como **função de custo** ou **função de erro**. Essa função é definida de acordo com o tipo de problema (aprendizagem supervisionada ou não-supervisionada). Essa função contém um **conjunto de parâmetros** a serem otimizada pelo um algoritmo de *Machine Learning*.\n",
    "\n",
    "De maneira geral, pode-se dizer que o objetivo do algoritmo de *Machine Learning* é otimizar (aprender) o **conjunto de parâmetros** de tal forma que resultado da função seja o mínimo possível. Isso significa que algoritmo tem uma alta taxa de aprendizagem e uma baixa taxa de erro.\n",
    "\n",
    "* Dividir os dados em\n",
    "* Treino\n",
    "* Teste\n",
    "    * Aqui eu mensuro desempenho (P)"
   ]
  },
  {
   "cell_type": "markdown",
   "metadata": {
    "slideshow": {
     "slide_type": "subslide"
    }
   },
   "source": [
    "<img src=\"https://www.edsonmelo.com.br/dados_csv/images/train-test.png\" alt=\"train-test\" style=\"width: 400px;\"/>"
   ]
  },
  {
   "cell_type": "markdown",
   "metadata": {
    "slideshow": {
     "slide_type": "slide"
    }
   },
   "source": [
    "### Exemplo: jogo de computador\n",
    "- Tarefa $T$ é jogar xadrez. \n",
    "- Medida de desempenho $P$ é uma relação entre partidas ganhas contra oponentes versus perdidas. \n",
    "- Experiência $E$ é prática de partidas concluídas. Note que, estas esperiências são descritas em um conjunto de dados chamado de **conjunto de treinamento**."
   ]
  },
  {
   "cell_type": "markdown",
   "metadata": {
    "slideshow": {
     "slide_type": "subslide"
    }
   },
   "source": [
    "#### Tente responder: Classifique as sentenças a baixo como: Tarefa $T$, Experiências $E$ e Medida de desempenho $P$\n",
    "\n",
    "- Classificar emails como spam ou não spam ?\n",
    "- Verificar quais emails o usuário classifica como spam ?\n",
    "- O número (ou fração) de emails corretamente classificados como spam ou não spam ?"
   ]
  },
  {
   "cell_type": "markdown",
   "metadata": {
    "slideshow": {
     "slide_type": "slide"
    }
   },
   "source": [
    "## Generalização\n",
    "\n",
    "A habilidade de desempenhar bem em dados não observados anteriormente.\n",
    "\n",
    "Mensurada por erro:\n",
    "* Dados de Treino: Erro de Treino\n",
    "* Dados de Teste: Erro de Teste"
   ]
  },
  {
   "cell_type": "markdown",
   "metadata": {
    "slideshow": {
     "slide_type": "subslide"
    }
   },
   "source": [
    "### Erro do Algoritmo\n",
    "\n",
    "2 Fatores:\n",
    "\n",
    "1. Habilidade de Reduzir o Erro de Treino\n",
    "2. Habilidade de Reduzir a Lacuna entre o Erro de Treino e o Erro de Teste\n",
    "\n",
    "<img src=\"https://www.edsonmelo.com.br/dados_csv/images/train-vs-test-error.png\" alt=\"train-vs-test-error\" style=\"width: 400px;\"/>"
   ]
  },
  {
   "cell_type": "markdown",
   "metadata": {
    "slideshow": {
     "slide_type": "subslide"
    }
   },
   "source": [
    "<img src=\"https://www.edsonmelo.com.br/dados_csv/images/trainin4.gif\" alt=\"training\" style=\"width: 500px;\"/>"
   ]
  },
  {
   "cell_type": "markdown",
   "metadata": {
    "slideshow": {
     "slide_type": "subslide"
    }
   },
   "source": [
    "### *Overfitting* e *Underfitting*\n",
    "\n",
    "* Centrais em *Machine Learning*\n",
    "* Underfitting\n",
    "    - Modelos **menos** flexíveis que o ideal\n",
    "* Overfitting\n",
    "    - Modelos **mais** flexíveis que o ideal   \n",
    "\n",
    "<img src=\"https://www.edsonmelo.com.br/dados_csv/images/underfitting-overfitting-capacity.png\" alt=\"underfitting-overfitting-capacity\" style=\"width: 500px;\"/>"
   ]
  },
  {
   "cell_type": "markdown",
   "metadata": {
    "slideshow": {
     "slide_type": "subslide"
    }
   },
   "source": [
    "#### No Free Lunch Theorem (NFL)\n",
    "\n",
    "> “Se você faz nenhum pressuposto dos dados, não há razão para preferir um modelo por outro”\n",
    "\n",
    "> Wolpert, D. H. (1996). The Lack of a Priori Distinctions between Learning Algorithms. Neural Computation, 8(7), 1341–1390. https://doi.org/10.1162/neco.1996.8.7.1341\n",
    "\t\n",
    "* Nenhum modelo é garantido que funcionará melhor\n",
    "    * Ex: para alguns dados, regressão linear é melhor; para outros, redes neurais.\n",
    "* A única maneira de saber é avaliar todos os modelos\n",
    "* Por isso que não há *almoço grátis*"
   ]
  },
  {
   "cell_type": "markdown",
   "metadata": {
    "slideshow": {
     "slide_type": "slide"
    }
   },
   "source": [
    "## Otimização\n",
    "\n",
    "Método mais utilizado é o **Método do Gradiente** (*Gradient Descent*)\n",
    "\n",
    "Inventado em 1847 por Augustin-Louis Cauchy. Usa a derivativa para minimizar uma função-alvo.\n",
    "\n",
    "**Método iterativo**: a cada iteração, tenta ir para o local/global minima\n",
    "\n",
    "<img src=\"https://www.edsonmelo.com.br/dados_csv/images/gradient-descent.png\" alt=\"gradient-descent\" style=\"width: 400px;\"/>"
   ]
  },
  {
   "cell_type": "markdown",
   "metadata": {
    "slideshow": {
     "slide_type": "subslide"
    }
   },
   "source": [
    "<img src=\"https://www.edsonmelo.com.br/dados_csv/images/gradient-descent.gif\" alt=\"gradient-descent-animation\" style=\"width: 500px;\"/>"
   ]
  },
  {
   "cell_type": "markdown",
   "metadata": {
    "slideshow": {
     "slide_type": "subslide"
    }
   },
   "source": [
    "<img src=\"https://www.edsonmelo.com.br/dados_csv/images/gradient-descent-2.gif\" alt=\"gradient-descent-animation\" style=\"width: 500px;\"/>"
   ]
  },
  {
   "cell_type": "markdown",
   "metadata": {
    "slideshow": {
     "slide_type": "subslide"
    }
   },
   "source": [
    "### Local/Global Minima/Maxima\n",
    "\n",
    "<img src=\"https://www.edsonmelo.com.br/dados_csv/images/local-minima.png\" alt=\"local-minima\" style=\"width: 400px;\"/>"
   ]
  },
  {
   "cell_type": "markdown",
   "metadata": {
    "slideshow": {
     "slide_type": "subslide"
    }
   },
   "source": [
    "<img src=\"https://www.edsonmelo.com.br/dados_csv/images/gradient-descent-1.gif\" alt=\"gradient-descent-animation-2\" style=\"width: 500px;\"/>"
   ]
  },
  {
   "cell_type": "markdown",
   "metadata": {
    "slideshow": {
     "slide_type": "subslide"
    }
   },
   "source": [
    "<img src=\"https://www.edsonmelo.com.br/dados_csv/images/gradient-descent-3.gif\" alt=\"gradient-descent-animation-3\" style=\"width: 500px;\"/>"
   ]
  },
  {
   "cell_type": "markdown",
   "metadata": {
    "slideshow": {
     "slide_type": "slide"
    }
   },
   "source": [
    "### Tipos de Método do Gradiente (*Gradient Descent*)\n",
    "\n",
    "* *Batch Gradient Descent*: Dataset todo\n",
    "* *Stochastic Gradient Descent*: Um exemplo aleatório do Dataset\n",
    "* *Mini-batch Gradient Descent*: Amostras aleatórias do Dataset"
   ]
  },
  {
   "cell_type": "markdown",
   "metadata": {
    "slideshow": {
     "slide_type": "subslide"
    }
   },
   "source": [
    "\n",
    "<img src=\"https://www.edsonmelo.com.br/dados_csv/images/grad-descent-methods.png\" alt=\"grad-descent-methods\" style=\"width: 500px;\"/>"
   ]
  },
  {
   "cell_type": "markdown",
   "metadata": {
    "slideshow": {
     "slide_type": "slide"
    }
   },
   "source": [
    "# Mãos a Obra"
   ]
  },
  {
   "cell_type": "markdown",
   "metadata": {},
   "source": [
    "## Pergunta: você sabe identificar o que é um gato ou um cachorro?\n",
    "\n",
    "### Definição do problema\n",
    "\n",
    "* o que queremos classificar?\n",
    "* quais características diferenciam o conjunto?\n",
    "* falsos positivos e falsos negativos\n",
    "* eliminação de objetos (se não é um gato, então é um cachorro)\n",
    "\n",
    "<p>Vamos tomar o <strong>gato</strong> como referência!!!</p>\n",
    "<p> A <strong><em>Priori</strong></em> vamos selecionar três gatos para descrever nosso conjunto e tabular três características:</p>\n",
    "\n",
    "<table>\n",
    "    <tr>\n",
    "        <td colspan=\"4\"  align=\"center\">GATOS</td>\n",
    "    </tr>\n",
    "    <tr>\n",
    "        <td>Animal</td>\n",
    "        <td>É fofinho?</td>\n",
    "        <td>Tem orelha pequena?</td>\n",
    "        <td>Faz miau?</td>\n",
    "    </tr>\n",
    "    <tr>\n",
    "        <td>Gato 1</td>\n",
    "        <td align=\"center\">1</td>\n",
    "        <td align=\"center\">1</td>\n",
    "        <td align=\"center\">1</td>\n",
    "    </tr>\n",
    "    <tr>\n",
    "        <td>Gato 2</td>\n",
    "        <td align=\"center\">1</td>\n",
    "        <td align=\"center\">0</td>\n",
    "        <td align=\"center\">1</td>\n",
    "    </tr>\n",
    "    <tr>\n",
    "        <td>Gato 3</td>\n",
    "        <td align=\"center\">0</td>\n",
    "        <td align=\"center\">1</td>\n",
    "        <td align=\"center\">1</td>\n",
    "    </tr>\n",
    "</table>\n",
    "\n",
    "<p>Vamos definir agora nosso cachorros.</p>\n",
    "<table>\n",
    "    <tr>\n",
    "        <td colspan=\"4\"  align=\"center\">CACHORROS</td>\n",
    "    </tr>\n",
    "    <tr>\n",
    "        <td>Animal</td>\n",
    "        <td>É fofinho?</td>\n",
    "        <td>Tem orelha pequena?</td>\n",
    "        <td>Faz miau?</td>\n",
    "    </tr>\n",
    "    <tr>\n",
    "        <td>Cachorro 1</td>\n",
    "        <td align=\"center\">1</td>\n",
    "        <td align=\"center\">1</td>\n",
    "        <td align=\"center\">0</td>\n",
    "    </tr>\n",
    "    <tr>\n",
    "        <td>Cachorro 2</td>\n",
    "        <td align=\"center\">0</td>\n",
    "        <td align=\"center\">1</td>\n",
    "        <td align=\"center\">0</td>\n",
    "    </tr>\n",
    "    <tr>\n",
    "        <td>Cachorro 3</td>\n",
    "        <td align=\"center\">0</td>\n",
    "        <td align=\"center\">1</td>\n",
    "        <td align=\"center\">0</td>\n",
    "    </tr>\n",
    "</table>"
   ]
  },
  {
   "cell_type": "markdown",
   "metadata": {},
   "source": [
    "# Função para mostrar os resultados"
   ]
  },
  {
   "cell_type": "code",
   "execution_count": 1,
   "metadata": {},
   "outputs": [],
   "source": [
    "def legenda(vetor):\n",
    "    retorno = []\n",
    "    vetor_animais = [ [1, 'Gato'], [-1, 'Cachorro'] ]\n",
    "    \n",
    "    for p in vetor:\n",
    "        if p == 1:\n",
    "            retorno.append(vetor_animais[0][1])\n",
    "        else:\n",
    "            retorno.append(vetor_animais[1][1])\n",
    "    return retorno"
   ]
  },
  {
   "cell_type": "markdown",
   "metadata": {},
   "source": [
    "# Montando o Problema"
   ]
  },
  {
   "cell_type": "code",
   "execution_count": 2,
   "metadata": {},
   "outputs": [],
   "source": [
    "# gatos\n",
    "animal1 = [1, 1, 1]\n",
    "animal2 = [1, 0, 1]\n",
    "animal3 = [0, 1, 1]\n",
    "\n",
    "# cachorros\n",
    "animal4 = [1, 1, 0]\n",
    "animal5 = [0, 1, 0]\n",
    "animal6 = [0, 1, 0]"
   ]
  },
  {
   "cell_type": "markdown",
   "metadata": {},
   "source": [
    "# Definindo o conjunto de dados"
   ]
  },
  {
   "cell_type": "code",
   "execution_count": 3,
   "metadata": {},
   "outputs": [],
   "source": [
    "# criado o dataset com todos os animais\n",
    "conjunto_animais = [animal1, animal2, animal3, animal4, animal5, animal6]"
   ]
  },
  {
   "cell_type": "markdown",
   "metadata": {},
   "source": [
    "# Informando para o algoritmo quem é gato e quem é chachorro\n",
    "* &nbsp;1 = gato\n",
    "* -1 = cachorro"
   ]
  },
  {
   "cell_type": "code",
   "execution_count": 4,
   "metadata": {},
   "outputs": [],
   "source": [
    "convencao_animais = [1, 1, 1, -1, -1, -1]"
   ]
  },
  {
   "cell_type": "markdown",
   "metadata": {},
   "source": [
    "# Aplicando Modelos de Machine Learning\n",
    "\n",
    "* SVM\n",
    "* Árvores de decisão\n",
    "* K-Nearest Neighbors\n",
    "* Naive Bayes, entre outros.\n",
    "\n",
    "**Documentação** da [SKLearn](https://scikit-learn.org/stable/index.html)"
   ]
  },
  {
   "cell_type": "code",
   "execution_count": 5,
   "metadata": {},
   "outputs": [],
   "source": [
    "# importando a biblioteca\n",
    "from sklearn.naive_bayes import MultinomialNB\n",
    "import numpy as np\n",
    "import warnings\n",
    "warnings.filterwarnings('ignore')"
   ]
  },
  {
   "cell_type": "code",
   "execution_count": 6,
   "metadata": {},
   "outputs": [
    {
     "data": {
      "text/plain": [
       "MultinomialNB()"
      ]
     },
     "execution_count": 6,
     "metadata": {},
     "output_type": "execute_result"
    }
   ],
   "source": [
    "modelo = MultinomialNB()\n",
    "modelo.fit(conjunto_animais, convencao_animais)"
   ]
  },
  {
   "cell_type": "code",
   "execution_count": 29,
   "metadata": {},
   "outputs": [
    {
     "data": {
      "text/plain": [
       "array([[-1.2039728 , -1.2039728 , -0.91629073]])"
      ]
     },
     "execution_count": 29,
     "metadata": {},
     "output_type": "execute_result"
    }
   ],
   "source": [
    "modelo.coef_"
   ]
  },
  {
   "cell_type": "markdown",
   "metadata": {},
   "source": [
    "# Realizando as predições\n",
    "\n",
    "<p>Agora que o algoritmo já conhece o que é um gato, um cachorro e as características de ambos, vamos predizer três animais que não estão no conjunto.</p>\n",
    "\n",
    "<table>\n",
    "    <tr>\n",
    "        <td colspan=\"4\"  align=\"center\">NOVOS ANIMAIS</td>\n",
    "    </tr>\n",
    "    <tr>\n",
    "        <td>Animal</td>\n",
    "        <td>É fofinho?</td>\n",
    "        <td>Tem orelha pequena?</td>\n",
    "        <td>Faz miau?</td>\n",
    "    </tr>\n",
    "    <tr>\n",
    "        <td>teste_1</td>\n",
    "        <td align=\"center\">1</td>\n",
    "        <td align=\"center\">1</td>\n",
    "        <td align=\"center\">1</td>\n",
    "    </tr>\n",
    "    <tr>\n",
    "        <td>test2_2</td>\n",
    "        <td align=\"center\">1</td>\n",
    "        <td align=\"center\">0</td>\n",
    "        <td align=\"center\">0</td>\n",
    "    </tr>\n",
    "    <tr>\n",
    "        <td>teste_3</td>\n",
    "        <td align=\"center\">0</td>\n",
    "        <td align=\"center\">0</td>\n",
    "        <td align=\"center\">1</td>\n",
    "    </tr>\n",
    "</table>\n",
    "\n",
    "* teste_1 = [1, 1, 1]\n",
    "* teste_2 = [1, 0, 0]\n",
    "* teste_3 = [0, 0, 1]"
   ]
  },
  {
   "cell_type": "code",
   "execution_count": 33,
   "metadata": {},
   "outputs": [],
   "source": [
    "# criando o conjunto de dados para realizar o teste\n",
    "teste_1 = [1, 1, 1]\n",
    "teste_2 = [1, 0, 0]\n",
    "teste_3 = [0, 0, 1]\n",
    "\n",
    "dados_teste = [teste_1, teste_2, teste_3]"
   ]
  },
  {
   "cell_type": "code",
   "execution_count": 34,
   "metadata": {},
   "outputs": [],
   "source": [
    "# executando o modelo de ML\n",
    "resultado = modelo.predict(dados_teste)"
   ]
  },
  {
   "cell_type": "code",
   "execution_count": 35,
   "metadata": {},
   "outputs": [
    {
     "data": {
      "text/plain": [
       "['Gato', 'Gato', 'Gato']"
      ]
     },
     "execution_count": 35,
     "metadata": {},
     "output_type": "execute_result"
    }
   ],
   "source": [
    "# verificando como o algoritmo classificou.\n",
    "# já sabemos qual são os animais (Gato, Cachorro, Gato) - O segundo não mia! Mas será que ele acertou? Vejamos!\n",
    "legenda(resultado)"
   ]
  },
  {
   "cell_type": "markdown",
   "metadata": {},
   "source": [
    "# Analisando os resultados\n",
    "* De antemão já sabíamos que a resposta deveria ser **Gato, Cachorro, Gato**, mas a resposta foi: **Gato, Gato, Gato**.\n",
    "* Portanto o nosso algoritmo tem a <strong>acurácia de 66,66%</strong>, ou seja, ele acertou 2 bichos misteriosos do nosso total de 3."
   ]
  },
  {
   "cell_type": "markdown",
   "metadata": {},
   "source": [
    "# Usando outros Classificadores"
   ]
  },
  {
   "cell_type": "code",
   "execution_count": 11,
   "metadata": {},
   "outputs": [],
   "source": [
    "from sklearn.neighbors import KNeighborsClassifier\n",
    "from sklearn.linear_model import LogisticRegression\n",
    "from sklearn.naive_bayes import GaussianNB\n",
    "from sklearn.tree import DecisionTreeClassifier"
   ]
  },
  {
   "cell_type": "markdown",
   "metadata": {},
   "source": [
    "# Definindo os novos classificadores"
   ]
  },
  {
   "cell_type": "code",
   "execution_count": 12,
   "metadata": {},
   "outputs": [],
   "source": [
    "tree = DecisionTreeClassifier(max_depth=10)\n",
    "knn = KNeighborsClassifier(n_neighbors=5)\n",
    "logreg = LogisticRegression()\n",
    "gnb = GaussianNB()\n",
    "\n",
    "# conjunto de dados para realizar o teste\n",
    "teste_1 = [1, 1, 1]\n",
    "teste_2 = [1, 0, 0]\n",
    "teste_3 = [0, 0, 1]\n",
    "\n",
    "dados_teste = [teste_1, teste_2, teste_3]"
   ]
  },
  {
   "cell_type": "markdown",
   "metadata": {},
   "source": [
    "# Árvore de Decisão\n",
    "\n",
    "+ #### Uma árvore de decisão é uma representação de uma tabela de decisão sob a forma de uma árvore.\n",
    "\n",
    "![legenda](https://www.researchgate.net/profile/Jorge_Ramos7/publication/312605379/figure/fig6/AS:453719444725761@1485186553048/Figura-9-Exemplo-de-Arvore-de-Decisao.png)\n",
    "\n",
    "# Algoritmo\n",
    "![legenda](https://sites.google.com/site/mansoldo1986/_/rsrc/1472876171711/home/leavesphp/classificacao-por-arvores-de-decisao/criteriodeselecaodeatributos/entropia.jpg?height=262&width=400)"
   ]
  },
  {
   "cell_type": "code",
   "execution_count": 13,
   "metadata": {},
   "outputs": [
    {
     "name": "stdout",
     "output_type": "stream",
     "text": [
      "['Gato', 'Cachorro', 'Gato']\n"
     ]
    }
   ],
   "source": [
    "tree.fit(conjunto_animais, convencao_animais)\n",
    "print(legenda(tree.predict(dados_teste)))"
   ]
  },
  {
   "cell_type": "markdown",
   "metadata": {},
   "source": [
    "# Regressão Logística\n",
    "\n",
    "+ #### Podemos entender regressão logística como o análogo de regressão linear para problemas de classificação. \n",
    "+ #### Esse tipo de problema surge quando queremos categorizar alguma variável por classes.\n",
    "\n",
    "![legenda](https://matheusfacure.github.io/img/tutorial/perceptron1.gif)\n",
    "\n",
    "# Algoritmo\n",
    "![legenda](https://i.ytimg.com/vi/wbs6WJBtX8k/maxresdefault.jpg)"
   ]
  },
  {
   "cell_type": "code",
   "execution_count": 14,
   "metadata": {},
   "outputs": [
    {
     "name": "stdout",
     "output_type": "stream",
     "text": [
      "['Gato', 'Cachorro', 'Gato']\n"
     ]
    }
   ],
   "source": [
    "logreg.fit(conjunto_animais, convencao_animais)\n",
    "print(legenda(logreg.predict(dados_teste)))"
   ]
  },
  {
   "cell_type": "markdown",
   "metadata": {},
   "source": [
    "# KNN\n",
    "\n",
    "+ ### KNN(K — Nearest Neighbors) ou **Vizinho mais próximo** é um algoritmo classificador onde o aprendizado é baseado “no quão similar” é um dado (um vetor) do outro.\n",
    "+ ### O treinamento é formado por vetores de *n* dimensões.\n",
    "\n",
    "![legenda](http://res.cloudinary.com/dyd911kmh/image/upload/f_auto,q_auto:best/v1531424125/KNN_final1_ibdm8a.png)\n",
    "\n",
    "# Algoritmo KNN\n",
    "![legenda](https://image1.slideserve.com/3439760/algoritmo-k-nn2-l.jpg)"
   ]
  },
  {
   "cell_type": "code",
   "execution_count": 15,
   "metadata": {},
   "outputs": [
    {
     "name": "stdout",
     "output_type": "stream",
     "text": [
      "['Gato', 'Cachorro', 'Gato']\n"
     ]
    }
   ],
   "source": [
    "knn.fit(conjunto_animais, convencao_animais)\n",
    "print(legenda(knn.predict(dados_teste)))"
   ]
  },
  {
   "cell_type": "markdown",
   "metadata": {},
   "source": [
    "# GaussianNB\n",
    "\n",
    "+ #### O algoritmo “Naive Bayes” é um classificador probabilístico.\n",
    "+ #### Entre as possibilidades de aplicações está a classificação de um e-mail como SPAM ou Não-SPAM e a identificação de um assunto com base em seu conteúdo.\n",
    "+ #### Um problema simples que exemplifica bem o teorema é o cálculo de probabilidades em cima de diagnóstico de doenças.\n",
    "\n",
    "![legenda](https://www.astroml.org/_images/fig_simple_naivebayes_1.png)\n",
    "\n",
    "\n",
    "# Algoritmo \n",
    "![legenda](https://4.bp.blogspot.com/-rx4RKn4PuAk/V9Sma9WZfDI/AAAAAAAAB7M/cxUy38yyeg4-UBiOLskXfALoIkpYLMc3ACLcB/s1600/Bayes_rule-300x172-300x172.png)"
   ]
  },
  {
   "cell_type": "code",
   "execution_count": 16,
   "metadata": {},
   "outputs": [
    {
     "name": "stdout",
     "output_type": "stream",
     "text": [
      "['Gato', 'Cachorro', 'Gato']\n"
     ]
    }
   ],
   "source": [
    "gnb.fit(conjunto_animais, convencao_animais)\n",
    "print(legenda(gnb.predict(dados_teste)))"
   ]
  },
  {
   "cell_type": "code",
   "execution_count": null,
   "metadata": {},
   "outputs": [],
   "source": []
  }
 ],
 "metadata": {
  "celltoolbar": "Slideshow",
  "kernelspec": {
   "display_name": "Python 3",
   "language": "python",
   "name": "python3"
  },
  "language_info": {
   "codemirror_mode": {
    "name": "ipython",
    "version": 3
   },
   "file_extension": ".py",
   "mimetype": "text/x-python",
   "name": "python",
   "nbconvert_exporter": "python",
   "pygments_lexer": "ipython3",
   "version": "3.8.5"
  }
 },
 "nbformat": 4,
 "nbformat_minor": 4
}
