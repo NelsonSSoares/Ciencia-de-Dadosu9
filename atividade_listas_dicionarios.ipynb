{
  "nbformat": 4,
  "nbformat_minor": 0,
  "metadata": {
    "colab": {
      "name": "atividade_listas_dicionarios.ipynb",
      "provenance": [],
      "collapsed_sections": [],
      "include_colab_link": true
    },
    "kernelspec": {
      "name": "python3",
      "display_name": "Python 3"
    },
    "language_info": {
      "name": "python"
    }
  },
  "cells": [
    {
      "cell_type": "markdown",
      "metadata": {
        "id": "view-in-github",
        "colab_type": "text"
      },
      "source": [
        "<a href=\"https://colab.research.google.com/github/NelsonSSoares/AulasPython-u9/blob/main/CienciadeDadoa/atividade_listas_dicionarios.ipynb\" target=\"_parent\"><img src=\"https://colab.research.google.com/assets/colab-badge.svg\" alt=\"Open In Colab\"/></a>"
      ]
    },
    {
      "cell_type": "markdown",
      "metadata": {
        "id": "rLoDvObdGiPW"
      },
      "source": [
        "# Atividade\n",
        "### Entrega: 16/Set\n",
        "### Valor: 100 pontos\n",
        "\n",
        "### Utilizando os dados a seguir, mostre os resultados de **forma individual** para cada curso sendo:\n",
        "\n",
        "* Menor nota\n",
        "* Maior nota\n",
        "* Média das notas"
      ]
    },
    {
      "cell_type": "code",
      "metadata": {
        "id": "ER3woJq1Gxer"
      },
      "source": [
        "# Dados\n",
        "alunos = []\n",
        "alunos.append({'nome': 'Aluno 01', 'curso': 'Ciências da Computação', 'AV1':8 })\n",
        "alunos.append({'nome': 'Aluno 02', 'curso': 'Sistemas de Informação', 'AV1':7 })\n",
        "alunos.append({'nome': 'Aluno 03', 'curso': 'Sistemas de Informação', 'AV1':6 })\n",
        "alunos.append({'nome': 'Aluno 04', 'curso': 'Sistemas de Informação', 'AV1':6 })\n",
        "alunos.append({'nome': 'Aluno 05', 'curso': 'Sistemas de Informação', 'AV1':6 })\n",
        "alunos.append({'nome': 'Aluno 06', 'curso': 'Análise e Desenvolvimento de Sistemas', 'AV1':7 })\n",
        "alunos.append({'nome': 'Aluno 07', 'curso': 'Análise e Desenvolvimento de Sistemas', 'AV1':9 })\n",
        "alunos.append({'nome': 'Aluno 08', 'curso': 'Ciências da Computação', 'AV1':10 })\n",
        "alunos.append({'nome': 'Aluno 09', 'curso': 'Ciências da Computação', 'AV1':10 })\n",
        "alunos.append({'nome': 'Aluno 10', 'curso': 'Ciências da Computação', 'AV1':4 })\n",
        "alunos.append({'nome': 'Aluno 11', 'curso': 'Análise e Desenvolvimento de Sistemas', 'AV1':5 })\n",
        "alunos.append({'nome': 'Aluno 11', 'curso': 'Análise e Desenvolvimento de Sistemas', 'AV1':5 })\n",
        "alunos.append({'nome': 'Aluno 12', 'curso': 'Análise e Desenvolvimento de Sistemas', 'AV1':9 })\n",
        "alunos.append({'nome': 'Aluno 13', 'curso': 'Análise e Desenvolvimento de Sistemas', 'AV1':9 })\n",
        "alunos.append({'nome': 'Aluno 14', 'curso': 'Ciências da Computação', 'AV1': 7})\n",
        "alunos.append({'nome': 'Aluno 15', 'curso': 'Análise e Desenvolvimento de Sistemas', 'AV1':7})\n",
        "alunos.append({'nome': 'Aluno 16', 'curso': 'Ciências da Computação', 'AV1': 6})\n",
        "alunos.append({'nome': 'Aluno 17', 'curso': 'Análise e Desenvolvimento de Sistemas', 'AV1':8 })\n",
        "alunos.append({'nome': 'Aluno 18', 'curso': 'Ciências da Computação', 'AV1':4 })\n",
        "alunos.append({'nome': 'Aluno 19', 'curso': 'Sistemas de Informação', 'AV1':2 })\n",
        "alunos.append({'nome': 'Aluno 20', 'curso': 'Análise e Desenvolvimento de Sistemas', 'AV1':9 })"
      ],
      "execution_count": null,
      "outputs": []
    },
    {
      "cell_type": "markdown",
      "metadata": {
        "id": "-mt9Dcg5IM3X"
      },
      "source": [
        "## Resolução"
      ]
    },
    {
      "cell_type": "code",
      "metadata": {
        "id": "9PPbVpL2G9nU",
        "colab": {
          "base_uri": "https://localhost:8080/"
        },
        "outputId": "6a1ce910-cc79-4cab-d683-cd19e5a6801a"
      },
      "source": [
        "# Notas Gerais\n",
        "# desenvolver aqui o código\n",
        "\n",
        "notas = []\n",
        "\n",
        "for i in alunos:\n",
        "  notas.append(i['AV1'])\n",
        "\n",
        "print('Maior Nota', max(notas))\n",
        "print('Menor Nota', min(notas))\n",
        "print('Media das Notas', sum(notas)/len(notas))\n",
        "\n",
        "# Saída\n",
        "# A MAIOR nota é.....: 10\n",
        "# A MENOR nota é.....: 2\n",
        "# A MÉDIA das notas é: 6.86"
      ],
      "execution_count": null,
      "outputs": [
        {
          "output_type": "stream",
          "name": "stdout",
          "text": [
            "Maior Nota 10\n",
            "Menor Nota 2\n",
            "Media das Notas 6.857142857142857\n"
          ]
        }
      ]
    },
    {
      "cell_type": "code",
      "metadata": {
        "id": "HODtGJzRIUor",
        "colab": {
          "base_uri": "https://localhost:8080/"
        },
        "outputId": "6352262d-1ddb-4418-ca30-5055b6b27cc0"
      },
      "source": [
        "# Ciências da Computação\n",
        "# desenvolver aqui o código\n",
        "cursos = []\n",
        "for i in alunos:\n",
        "  if i['curso'] == 'Ciências da Computação':\n",
        "    cursos.append(i['AV1'])\n",
        "\n",
        "\n",
        "print('Maior Nota', max(cursos))\n",
        "print('Menor Nota', min(cursos))\n",
        "print('Media das Notas', sum(cursos)/len(cursos))\n",
        "\n",
        "# Saída\n",
        "# A MAIOR nota é.....: 10\n",
        "# A MENOR nota é.....: 4\n",
        "# A MÉDIA das notas é: 7.0"
      ],
      "execution_count": null,
      "outputs": [
        {
          "output_type": "stream",
          "name": "stdout",
          "text": [
            "Maior Nota 10\n",
            "Menor Nota 4\n",
            "Media das Notas 7.0\n"
          ]
        }
      ]
    },
    {
      "cell_type": "code",
      "metadata": {
        "id": "qm7o9uJLIV7V",
        "colab": {
          "base_uri": "https://localhost:8080/"
        },
        "outputId": "64e1d673-2fc5-4e2d-a228-8ddf94faaf6e"
      },
      "source": [
        "# Análise e Desenvolvimento de Sistemas\n",
        "# desenvolver aqui o código\n",
        "cursos = []\n",
        "for i in alunos:\n",
        "  if i['curso'] == 'Análise e Desenvolvimento de Sistemas':\n",
        "    cursos.append(i['AV1'])\n",
        "\n",
        "\n",
        "print('Maior Nota', max(cursos))\n",
        "print('Menor Nota', min(cursos))\n",
        "print(f'Media das Notas', sum(cursos)/len(cursos))\n",
        "\n",
        "# Saída\n",
        "# A MAIOR nota é.....: 9\n",
        "# A MENOR nota é.....: 5\n",
        "# A MÉDIA das notas é: 7.56"
      ],
      "execution_count": null,
      "outputs": [
        {
          "output_type": "stream",
          "name": "stdout",
          "text": [
            "Maior Nota 9\n",
            "Menor Nota 5\n",
            "Media das Notas 7.555555555555555\n"
          ]
        }
      ]
    },
    {
      "cell_type": "code",
      "metadata": {
        "id": "1e3oVnYTIV-N",
        "colab": {
          "base_uri": "https://localhost:8080/"
        },
        "outputId": "db2bbd40-45b7-4903-9bf8-a225ec81bec0"
      },
      "source": [
        "# Sistemas de Informação\n",
        "# desenvolver aqui o código\n",
        "cursos = []\n",
        "for i in alunos:\n",
        "  if i['curso'] == 'Sistemas de Informação':\n",
        "    cursos.append(i['AV1'])\n",
        "\n",
        "\n",
        "print('Maior Nota', max(cursos))\n",
        "print('Menor Nota', min(cursos))\n",
        "print('Media das Notas', sum(cursos)/len(cursos))\n",
        "\n",
        "# Saída\n",
        "# A MAIOR notas é....: 7\n",
        "# A MENOR nota é.....: 2\n",
        "# A MÉDIA das notas é: 5.4"
      ],
      "execution_count": null,
      "outputs": [
        {
          "output_type": "stream",
          "name": "stdout",
          "text": [
            "Maior Nota 7\n",
            "Menor Nota 2\n",
            "Media das Notas 5.4\n"
          ]
        }
      ]
    },
    {
      "cell_type": "markdown",
      "metadata": {
        "id": "FIzo4z_dHl6l"
      },
      "source": [
        "### Desenvolva um algoritmo que permita mostrar **de uma só vez** os resultados do exercício anterior para cada curso."
      ]
    },
    {
      "cell_type": "code",
      "metadata": {
        "id": "eWT5OxUFJeX-",
        "colab": {
          "base_uri": "https://localhost:8080/"
        },
        "outputId": "4f8d09d0-da54-4062-dd9c-41372cf43c30"
      },
      "source": [
        "# Resolução\n",
        "# desenvolver aqui o código\n",
        "ads = []\n",
        "cc = []\n",
        "si = []\n",
        "\n",
        "for i in alunos:\n",
        "  if i['curso'] == 'Ciências da Computação':\n",
        "    cc.append(i['AV1'])\n",
        "  elif i['curso'] == 'Análise e Desenvolvimento de Sistemas':\n",
        "    ads.append(i['AV1'])\n",
        "  elif i['curso'] == 'Sistemas de Informação':\n",
        "    si.append(i['AV1'])\n",
        "\n",
        "print('Análise e Desenvolvimento de Sistemas: ', ads)\n",
        "print('Maior Nota: ', max(ads))\n",
        "print('Menor Nota: ', min(ads))\n",
        "print('Media das Notas: ', sum(ads)/len(ads))\n",
        "print('\\n')\n",
        "print('Ciência da Computação: ', cc)\n",
        "print('Maior Nota: ', max(cc))\n",
        "print('Menor Nota: ', min(cc))\n",
        "print('Media das Notas: ', sum(cc)/len(cc))\n",
        "print('\\n')\n",
        "print('Sistemas de Informação:', si)\n",
        "print('Maior Nota: ', max(si))\n",
        "print('Menor Nota: ', min(si))\n",
        "print('Media das Notas: ', sum(si)/len(si))\n",
        "print('\\n')\n",
        "\n",
        "\n",
        "# Saída\n",
        "# Curso: Análise e Desenvolvimento de Sistemas [7, 9, 5, 5, 9, 9, 7, 8, 9]\n",
        "# A MAIOR nota é.....: 9\n",
        "# A MENOR nota é.....: 5\n",
        "# A MÉDIA das notas é: 7.56\n",
        "\n",
        "# Curso: Ciências da Computação [8, 10, 10, 4, 7, 6, 4]\n",
        "# A MAIOR nota é.....: 10\n",
        "# A MENOR nota é.....: 4\n",
        "# A MÉDIA das notas é: 7.0\n",
        "\n",
        "# Curso: Sistemas de Informação [7, 6, 6, 6, 2]\n",
        "# A MAIOR nota é.....: 7\n",
        "# A MENOR nota é.....: 2\n",
        "# A MÉDIA das notas é: 5.4"
      ],
      "execution_count": null,
      "outputs": [
        {
          "output_type": "stream",
          "name": "stdout",
          "text": [
            "Análise e Desenvolvimento de Sistemas:  [7, 9, 5, 5, 9, 9, 7, 8, 9]\n",
            "Maior Nota:  9\n",
            "Menor Nota:  5\n",
            "Media das Notas:  7.555555555555555\n",
            "\n",
            "\n",
            "Ciência da Computação:  [8, 10, 10, 4, 7, 6, 4]\n",
            "Maior Nota:  10\n",
            "Menor Nota:  4\n",
            "Media das Notas:  7.0\n",
            "\n",
            "\n",
            "Sistemas de Informação: [7, 6, 6, 6, 2]\n",
            "Maior Nota:  7\n",
            "Menor Nota:  2\n",
            "Media das Notas:  5.4\n",
            "\n",
            "\n"
          ]
        }
      ]
    }
  ]
}