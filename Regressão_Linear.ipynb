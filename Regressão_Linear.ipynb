{
  "nbformat": 4,
  "nbformat_minor": 0,
  "metadata": {
    "colab": {
      "name": "Regressão_Linear.ipynb",
      "provenance": [],
      "collapsed_sections": [],
      "include_colab_link": true
    },
    "kernelspec": {
      "name": "python3",
      "display_name": "Python 3"
    },
    "language_info": {
      "name": "python"
    }
  },
  "cells": [
    {
      "cell_type": "markdown",
      "metadata": {
        "id": "view-in-github",
        "colab_type": "text"
      },
      "source": [
        "<a href=\"https://colab.research.google.com/github/NelsonSSoares/Ciencia-de-Dadosu9/blob/main/Regress%C3%A3o_Linear.ipynb\" target=\"_parent\"><img src=\"https://colab.research.google.com/assets/colab-badge.svg\" alt=\"Open In Colab\"/></a>"
      ]
    },
    {
      "cell_type": "markdown",
      "metadata": {
        "id": "YAQeiH01JTa4"
      },
      "source": [
        "# Regressão Linear\n",
        "\n",
        "**Objetivo**: Aprender o que é Regressão Linear e introduzir intuições sobre o Método do Gradiente e o Método do Gradiente Estocástico assim como os problemas de regressão de aprendizagem de máquina. "
      ]
    },
    {
      "cell_type": "markdown",
      "metadata": {
        "id": "ELJmVTopKBS6"
      },
      "source": [
        "<img src=\"https://www.edsonmelo.com.br/dados_csv/images/reg-linear1.png\" alt=\"reg-linear\" style=\"width: 400px;\"/>"
      ]
    },
    {
      "cell_type": "markdown",
      "metadata": {
        "id": "p892x_umKZRK"
      },
      "source": [
        "$$ \\hat{y} = \\theta_0 + \\theta_1 x_1 + \\theta_2 x_2 + \\dots \\theta_n x_n$$\n",
        "\n",
        "$\\hat{y}$ - valor previsto\n",
        "\n",
        "$\\theta$ - parâmetro do modelo\n",
        "\n",
        "$n$ - número de atributos (*features*)\n",
        "\n",
        "$x_i$ - o valor do *inésimo* atributo (*feature*)"
      ]
    },
    {
      "cell_type": "markdown",
      "metadata": {
        "id": "u5JEz6BAKbxi"
      },
      "source": [
        "### Exemplo\n",
        "\n",
        "$\\mathrm{preço~de~residência} = 4500 + 1000\\times \\mathrm{quartos} + 120 \\times \\mathrm{m}^2 + 3000 \\times \\mathrm{banheiros}$"
      ]
    },
    {
      "cell_type": "markdown",
      "metadata": {
        "id": "SZj0tqaMKff5"
      },
      "source": [
        "### *Mean Squared Error* (MSE) - Erro Quadrático Médio\n",
        "\n",
        "$$MSE = \\frac{1}{m}\\Sigma_{i=1}^{m}{(\\hat{y}_i - y_i)^2}$$\n",
        "\n",
        "### *Mean Absolute Error* (MAE) - Erro Absoluto Médio\n",
        "$$MAE = \\frac{1}{m}\\Sigma_{i=1}^{m}{|\\hat{y}_i - y_i|}$$"
      ]
    },
    {
      "cell_type": "markdown",
      "metadata": {
        "id": "_TsjBAIeKiYK"
      },
      "source": [
        "<img src=\"https://www.edsonmelo.com.br/dados_csv/images/gradient-descent.gif\" alt=\"gradient-descent-animation\" style=\"width: 500px;\"/>"
      ]
    },
    {
      "cell_type": "markdown",
      "metadata": {
        "id": "GJCAZRANKn1S"
      },
      "source": [
        "# Aplicando Códigos"
      ]
    },
    {
      "cell_type": "code",
      "metadata": {
        "id": "rA5d5bd2JUzN"
      },
      "source": [
        "import pandas as pd\n",
        "import numpy as np\n",
        "import matplotlib.pyplot as plt\n",
        "from sklearn import linear_model\n",
        "\n",
        "import warnings\n",
        "warnings.filterwarnings('ignore')"
      ],
      "execution_count": null,
      "outputs": []
    },
    {
      "cell_type": "code",
      "metadata": {
        "id": "-4r4EaYEKtVi"
      },
      "source": [
        "# Criação do DataFrame\n",
        "dataframe = pd.DataFrame()\n",
        "\n",
        "# horas de estudo\n",
        "dataframe['x'] = [5.1, 5.5, 5.9, 6.5, 6.8, 7.6, 8.3, 8.5, 9.1, 9.5]\n",
        "\n",
        "# pontuaçao alcançada\n",
        "dataframe['y'] = [2.0, 2.9, 4.0, 5.9, 6.0, 6.9, 8.0, 9.0, 9.9, 10.0]\n",
        "\n",
        "x_values = dataframe[['x']]\n",
        "y_values = dataframe[['y']]"
      ],
      "execution_count": null,
      "outputs": []
    },
    {
      "cell_type": "code",
      "metadata": {
        "colab": {
          "base_uri": "https://localhost:8080/",
          "height": 300
        },
        "id": "NPmpFZJ5UY6m",
        "outputId": "0fa7db55-7c1d-4e58-c056-c07410b18364"
      },
      "source": [
        "dataframe.describe()"
      ],
      "execution_count": null,
      "outputs": [
        {
          "output_type": "execute_result",
          "data": {
            "text/html": [
              "<div>\n",
              "<style scoped>\n",
              "    .dataframe tbody tr th:only-of-type {\n",
              "        vertical-align: middle;\n",
              "    }\n",
              "\n",
              "    .dataframe tbody tr th {\n",
              "        vertical-align: top;\n",
              "    }\n",
              "\n",
              "    .dataframe thead th {\n",
              "        text-align: right;\n",
              "    }\n",
              "</style>\n",
              "<table border=\"1\" class=\"dataframe\">\n",
              "  <thead>\n",
              "    <tr style=\"text-align: right;\">\n",
              "      <th></th>\n",
              "      <th>x</th>\n",
              "      <th>y</th>\n",
              "    </tr>\n",
              "  </thead>\n",
              "  <tbody>\n",
              "    <tr>\n",
              "      <th>count</th>\n",
              "      <td>10.000000</td>\n",
              "      <td>10.000000</td>\n",
              "    </tr>\n",
              "    <tr>\n",
              "      <th>mean</th>\n",
              "      <td>7.280000</td>\n",
              "      <td>6.460000</td>\n",
              "    </tr>\n",
              "    <tr>\n",
              "      <th>std</th>\n",
              "      <td>1.546897</td>\n",
              "      <td>2.838701</td>\n",
              "    </tr>\n",
              "    <tr>\n",
              "      <th>min</th>\n",
              "      <td>5.100000</td>\n",
              "      <td>2.000000</td>\n",
              "    </tr>\n",
              "    <tr>\n",
              "      <th>25%</th>\n",
              "      <td>6.050000</td>\n",
              "      <td>4.475000</td>\n",
              "    </tr>\n",
              "    <tr>\n",
              "      <th>50%</th>\n",
              "      <td>7.200000</td>\n",
              "      <td>6.450000</td>\n",
              "    </tr>\n",
              "    <tr>\n",
              "      <th>75%</th>\n",
              "      <td>8.450000</td>\n",
              "      <td>8.750000</td>\n",
              "    </tr>\n",
              "    <tr>\n",
              "      <th>max</th>\n",
              "      <td>9.500000</td>\n",
              "      <td>10.000000</td>\n",
              "    </tr>\n",
              "  </tbody>\n",
              "</table>\n",
              "</div>"
            ],
            "text/plain": [
              "               x          y\n",
              "count  10.000000  10.000000\n",
              "mean    7.280000   6.460000\n",
              "std     1.546897   2.838701\n",
              "min     5.100000   2.000000\n",
              "25%     6.050000   4.475000\n",
              "50%     7.200000   6.450000\n",
              "75%     8.450000   8.750000\n",
              "max     9.500000  10.000000"
            ]
          },
          "metadata": {},
          "execution_count": 8
        }
      ]
    },
    {
      "cell_type": "code",
      "metadata": {
        "colab": {
          "base_uri": "https://localhost:8080/"
        },
        "id": "qYPUeI18KvSi",
        "outputId": "150444fc-ad0f-41cf-817b-76a119b28c44"
      },
      "source": [
        "# treinamento do modelo de Regressão Linear Simples\n",
        "model = linear_model.LinearRegression()\n",
        "model.fit(x_values, y_values)"
      ],
      "execution_count": null,
      "outputs": [
        {
          "output_type": "execute_result",
          "data": {
            "text/plain": [
              "LinearRegression()"
            ]
          },
          "metadata": {},
          "execution_count": 9
        }
      ]
    },
    {
      "cell_type": "code",
      "metadata": {
        "colab": {
          "base_uri": "https://localhost:8080/"
        },
        "id": "sx9qaiOSKwYT",
        "outputId": "fd758750-807c-4818-d580-80555fd78543"
      },
      "source": [
        "# mostrando os valores obtidos\n",
        "print('Utilizando biblioteca Scikit-Learn')\n",
        "print('y = ax + b')\n",
        "print('a = %.2f => a inclinação da linha de tendência.' % model.coef_[0][0])\n",
        "print('b = %.2f => o ponto onde a linha de tendência atinge o eixo y.' % model.intercept_[0])"
      ],
      "execution_count": null,
      "outputs": [
        {
          "output_type": "stream",
          "name": "stdout",
          "text": [
            "Utilizando biblioteca Scikit-Learn\n",
            "y = ax + b\n",
            "a = 1.81 => a inclinação da linha de tendência.\n",
            "b = -6.74 => o ponto onde a linha de tendência atinge o eixo y.\n"
          ]
        }
      ]
    },
    {
      "cell_type": "code",
      "metadata": {
        "colab": {
          "base_uri": "https://localhost:8080/",
          "height": 483
        },
        "id": "sAR5c2wNKxs4",
        "outputId": "60dbae8f-f7b2-4a5d-8c23-217ecbebbce1"
      },
      "source": [
        "# plotando o gráfico da regressão\n",
        "plt.figure(1, figsize=(10, 8))\n",
        "plt.scatter(dataframe['x'].values, dataframe['y'].values)\n",
        "fit = np.polyfit(dataframe['x'].values, dataframe['y'].values, 1)\n",
        "fit_fn = np.poly1d(fit) \n",
        "plt.plot(dataframe['x'].values, fit_fn(dataframe['x'].values), 'r')\n",
        "plt.show()"
      ],
      "execution_count": null,
      "outputs": [
        {
          "output_type": "display_data",
          "data": {
            "image/png": "[encoded data removed]",
            "text/plain": [
              "<Figure size 720x576 with 1 Axes>"
            ]
          },
          "metadata": {
            "needs_background": "light"
          }
        }
      ]
    },
    {
      "cell_type": "code",
      "metadata": {
        "colab": {
          "base_uri": "https://localhost:8080/"
        },
        "id": "gzyBKlujKzdy",
        "outputId": "452555c9-7018-4101-9d24-a4b7d046156d"
      },
      "source": [
        "# informando um valor que não está originalmente na lista de valores\n",
        "entrada = 6.2 # horas de estudo\n",
        "predicao = model.predict(np.array([[entrada]]))\n",
        "print('Predição:', predicao)"
      ],
      "execution_count": null,
      "outputs": [
        {
          "output_type": "stream",
          "name": "stdout",
          "text": [
            "Predição: [[4.50209881]]\n"
          ]
        }
      ]
    },
    {
      "cell_type": "code",
      "metadata": {
        "colab": {
          "base_uri": "https://localhost:8080/",
          "height": 517
        },
        "id": "iCBQLy4-K1OJ",
        "outputId": "781f41b7-a0e8-450d-b13d-7b11b67e4301"
      },
      "source": [
        "# traçando linhas das coordenadas para mostrar a inferência\n",
        "plt.figure(1, figsize=(10, 8))\n",
        "plt.scatter(dataframe['x'].values, dataframe['y'].values)\n",
        "fit = np.polyfit(dataframe['x'].values, dataframe['y'].values, 1)\n",
        "fit_fn = np.poly1d(fit)\n",
        "\n",
        "txt ='h(θ0, θ1) = ' + str(predicao)\n",
        "plt.annotate(txt, xy=(entrada, predicao), xytext=(5, 0.9), arrowprops=dict(arrowstyle=\"->\",connectionstyle=\"arc3\"))\n",
        "\n",
        "plt.plot(dataframe['x'].values, fit_fn(dataframe['x'].values), 'r')\n",
        "plt.axvline(x=entrada, ymin=0, ymax=predicao, ls='--',c='black')\n",
        "plt.axhline(y=predicao, ls='--',c='black')"
      ],
      "execution_count": null,
      "outputs": [
        {
          "output_type": "execute_result",
          "data": {
            "text/plain": [
              "<matplotlib.lines.Line2D at 0x7f1cd68a2c50>"
            ]
          },
          "metadata": {},
          "execution_count": 17
        },
        {
          "output_type": "display_data",
          "data": {
            "image/png": "[encoded data removed]",
            "text/plain": [
              "<Figure size 720x576 with 1 Axes>"
            ]
          },
          "metadata": {
            "needs_background": "light"
          }
        }
      ]
    },
    {
      "cell_type": "code",
      "metadata": {
        "colab": {
          "base_uri": "https://localhost:8080/"
        },
        "id": "jPV_1ImeK2mV",
        "outputId": "f562108f-e41f-4238-d8d8-4522937ba375"
      },
      "source": [
        "# realizando regressão linear via carregamento de um arquivo\n",
        "dados = pd.read_csv(\"https://www.edsonmelo.com.br/dados_csv/dados_regressao.csv\", sep=',', header=None)\n",
        "dados.shape"
      ],
      "execution_count": null,
      "outputs": [
        {
          "output_type": "execute_result",
          "data": {
            "text/plain": [
              "(50, 2)"
            ]
          },
          "metadata": {},
          "execution_count": 18
        }
      ]
    },
    {
      "cell_type": "code",
      "metadata": {
        "id": "2-g7YelcK4g4"
      },
      "source": [
        "dataframe = pd.DataFrame()\n",
        "# coletando os dados da coluna (0)->x\n",
        "dataframe['x'] = dados.values[:, 0]\n",
        "dataframe['y'] = dados.values[:, -1]\n",
        "x_values = dataframe[['x']]\n",
        "y_values = dataframe[['y']]"
      ],
      "execution_count": null,
      "outputs": []
    },
    {
      "cell_type": "code",
      "metadata": {
        "colab": {
          "base_uri": "https://localhost:8080/",
          "height": 428
        },
        "id": "CgtNlJxoLIzt",
        "outputId": "26703ed1-bba7-4a0f-8ac9-7f5fafba1620"
      },
      "source": [
        "# treinar o modelo\n",
        "modelo = linear_model.LinearRegression(normalize=True)\n",
        "modelo.fit(x_values, y_values)\n",
        "print('y = ax + b')\n",
        "print('a = %.2f => a inclinação da linha de tendência' % modelo.coef_[0][0])\n",
        "print('b = %.2f => o ponto onde a linha de tendência atinge o eixo y' % modelo.intercept_[0])\n",
        "\n",
        "plt.figure(1, figsize=(8, 6))\n",
        "plt.scatter(dataframe['x'].values, dataframe['y'].values)\n",
        "fit = np.polyfit(dataframe['x'].values, dataframe['y'].values, 1)\n",
        "fit_fn = np.poly1d(fit)\n",
        "plt.plot(dataframe['x'].values, fit_fn(dataframe['x'].values), 'r')\n",
        "plt.show()"
      ],
      "execution_count": null,
      "outputs": [
        {
          "output_type": "stream",
          "name": "stdout",
          "text": [
            "y = ax + b\n",
            "a = 0.06 => a inclinação da linha de tendência\n",
            "b = 0.75 => o ponto onde a linha de tendência atinge o eixo y\n"
          ]
        },
        {
          "output_type": "display_data",
          "data": {
            "image/png": "[encoded data removed]",
            "text/plain": [
              "<Figure size 576x432 with 1 Axes>"
            ]
          },
          "metadata": {
            "needs_background": "light"
          }
        }
      ]
    },
    {
      "cell_type": "code",
      "metadata": {
        "colab": {
          "base_uri": "https://localhost:8080/"
        },
        "id": "5yaj23iuLKnF",
        "outputId": "1198cd72-2f0f-4002-9a6c-9ab6883c8540"
      },
      "source": [
        "entrada = 6.5\n",
        "predicao = modelo.predict(np.array([[entrada]]))\n",
        "print('Predição: ', predicao)"
      ],
      "execution_count": null,
      "outputs": [
        {
          "output_type": "stream",
          "name": "stdout",
          "text": [
            "Predição:  [[1.16557617]]\n"
          ]
        }
      ]
    },
    {
      "cell_type": "code",
      "metadata": {
        "colab": {
          "base_uri": "https://localhost:8080/"
        },
        "id": "ha1Knl0CLMGK",
        "outputId": "88aba607-3d97-422c-f2c1-e6876c7b250c"
      },
      "source": [
        "# outra predição\n",
        "horas_estudo = np.array([1,5,7,8,10,11,14,15,15,19]).reshape((-1, 1))\n",
        "print(horas_estudo)"
      ],
      "execution_count": null,
      "outputs": [
        {
          "output_type": "stream",
          "name": "stdout",
          "text": [
            "[[ 1]\n",
            " [ 5]\n",
            " [ 7]\n",
            " [ 8]\n",
            " [10]\n",
            " [11]\n",
            " [14]\n",
            " [15]\n",
            " [15]\n",
            " [19]]\n"
          ]
        }
      ]
    },
    {
      "cell_type": "markdown",
      "metadata": {
        "id": "DrKrcP7dLZJG"
      },
      "source": [
        "# Statsmodel\n",
        "## Regressão Linear Simples"
      ]
    },
    {
      "cell_type": "code",
      "metadata": {
        "id": "GZOcYb_HLWZz"
      },
      "source": [
        "import pandas as pd\n",
        "import numpy as np\n",
        "\n",
        "import seaborn as sns\n",
        "import matplotlib.pyplot as plt\n",
        "\n",
        "from sklearn.linear_model import LinearRegression\n",
        "from sklearn.metrics import r2_score\n",
        "\n",
        "import statsmodels.api as sm"
      ],
      "execution_count": null,
      "outputs": []
    },
    {
      "cell_type": "code",
      "metadata": {
        "colab": {
          "base_uri": "https://localhost:8080/"
        },
        "id": "VQy_-gidLl28",
        "outputId": "10415da2-657d-4f71-e263-908413cf587e"
      },
      "source": [
        "df = pd.read_csv('https://www.edsonmelo.com.br/dados_csv/dados_midias.csv')\n",
        "print('Total de registros:', df.shape[0])\n",
        "print('Total de colunas..:', df.shape[1])"
      ],
      "execution_count": null,
      "outputs": [
        {
          "output_type": "stream",
          "name": "stdout",
          "text": [
            "Total de registros: 200\n",
            "Total de colunas..: 5\n"
          ]
        }
      ]
    },
    {
      "cell_type": "code",
      "metadata": {
        "colab": {
          "base_uri": "https://localhost:8080/",
          "height": 206
        },
        "id": "CBI0cR8qMCPk",
        "outputId": "d669b433-8b42-44eb-aabd-f0e6be01364d"
      },
      "source": [
        "df.head()"
      ],
      "execution_count": null,
      "outputs": [
        {
          "output_type": "execute_result",
          "data": {
            "text/html": [
              "<div>\n",
              "<style scoped>\n",
              "    .dataframe tbody tr th:only-of-type {\n",
              "        vertical-align: middle;\n",
              "    }\n",
              "\n",
              "    .dataframe tbody tr th {\n",
              "        vertical-align: top;\n",
              "    }\n",
              "\n",
              "    .dataframe thead th {\n",
              "        text-align: right;\n",
              "    }\n",
              "</style>\n",
              "<table border=\"1\" class=\"dataframe\">\n",
              "  <thead>\n",
              "    <tr style=\"text-align: right;\">\n",
              "      <th></th>\n",
              "      <th>seq</th>\n",
              "      <th>tv</th>\n",
              "      <th>radio</th>\n",
              "      <th>jornal</th>\n",
              "      <th>vendas</th>\n",
              "    </tr>\n",
              "  </thead>\n",
              "  <tbody>\n",
              "    <tr>\n",
              "      <th>0</th>\n",
              "      <td>1</td>\n",
              "      <td>230.1</td>\n",
              "      <td>37.8</td>\n",
              "      <td>69.2</td>\n",
              "      <td>22.1</td>\n",
              "    </tr>\n",
              "    <tr>\n",
              "      <th>1</th>\n",
              "      <td>2</td>\n",
              "      <td>44.5</td>\n",
              "      <td>39.3</td>\n",
              "      <td>45.1</td>\n",
              "      <td>10.4</td>\n",
              "    </tr>\n",
              "    <tr>\n",
              "      <th>2</th>\n",
              "      <td>3</td>\n",
              "      <td>17.2</td>\n",
              "      <td>45.9</td>\n",
              "      <td>69.3</td>\n",
              "      <td>9.3</td>\n",
              "    </tr>\n",
              "    <tr>\n",
              "      <th>3</th>\n",
              "      <td>4</td>\n",
              "      <td>151.5</td>\n",
              "      <td>41.3</td>\n",
              "      <td>58.5</td>\n",
              "      <td>18.5</td>\n",
              "    </tr>\n",
              "    <tr>\n",
              "      <th>4</th>\n",
              "      <td>5</td>\n",
              "      <td>180.8</td>\n",
              "      <td>10.8</td>\n",
              "      <td>58.4</td>\n",
              "      <td>12.9</td>\n",
              "    </tr>\n",
              "  </tbody>\n",
              "</table>\n",
              "</div>"
            ],
            "text/plain": [
              "   seq     tv  radio  jornal  vendas\n",
              "0    1  230.1   37.8    69.2    22.1\n",
              "1    2   44.5   39.3    45.1    10.4\n",
              "2    3   17.2   45.9    69.3     9.3\n",
              "3    4  151.5   41.3    58.5    18.5\n",
              "4    5  180.8   10.8    58.4    12.9"
            ]
          },
          "metadata": {},
          "execution_count": 25
        }
      ]
    },
    {
      "cell_type": "code",
      "metadata": {
        "colab": {
          "base_uri": "https://localhost:8080/",
          "height": 423
        },
        "id": "RkNcykq0MNnm",
        "outputId": "7e9a0429-484d-4eb2-b2f4-1fd9d21efd8a"
      },
      "source": [
        "# apagando colunas desnecessárias\n",
        "df.drop(['seq'], axis=1)"
      ],
      "execution_count": null,
      "outputs": [
        {
          "output_type": "execute_result",
          "data": {
            "text/html": [
              "<div>\n",
              "<style scoped>\n",
              "    .dataframe tbody tr th:only-of-type {\n",
              "        vertical-align: middle;\n",
              "    }\n",
              "\n",
              "    .dataframe tbody tr th {\n",
              "        vertical-align: top;\n",
              "    }\n",
              "\n",
              "    .dataframe thead th {\n",
              "        text-align: right;\n",
              "    }\n",
              "</style>\n",
              "<table border=\"1\" class=\"dataframe\">\n",
              "  <thead>\n",
              "    <tr style=\"text-align: right;\">\n",
              "      <th></th>\n",
              "      <th>tv</th>\n",
              "      <th>radio</th>\n",
              "      <th>jornal</th>\n",
              "      <th>vendas</th>\n",
              "    </tr>\n",
              "  </thead>\n",
              "  <tbody>\n",
              "    <tr>\n",
              "      <th>0</th>\n",
              "      <td>230.1</td>\n",
              "      <td>37.8</td>\n",
              "      <td>69.2</td>\n",
              "      <td>22.1</td>\n",
              "    </tr>\n",
              "    <tr>\n",
              "      <th>1</th>\n",
              "      <td>44.5</td>\n",
              "      <td>39.3</td>\n",
              "      <td>45.1</td>\n",
              "      <td>10.4</td>\n",
              "    </tr>\n",
              "    <tr>\n",
              "      <th>2</th>\n",
              "      <td>17.2</td>\n",
              "      <td>45.9</td>\n",
              "      <td>69.3</td>\n",
              "      <td>9.3</td>\n",
              "    </tr>\n",
              "    <tr>\n",
              "      <th>3</th>\n",
              "      <td>151.5</td>\n",
              "      <td>41.3</td>\n",
              "      <td>58.5</td>\n",
              "      <td>18.5</td>\n",
              "    </tr>\n",
              "    <tr>\n",
              "      <th>4</th>\n",
              "      <td>180.8</td>\n",
              "      <td>10.8</td>\n",
              "      <td>58.4</td>\n",
              "      <td>12.9</td>\n",
              "    </tr>\n",
              "    <tr>\n",
              "      <th>...</th>\n",
              "      <td>...</td>\n",
              "      <td>...</td>\n",
              "      <td>...</td>\n",
              "      <td>...</td>\n",
              "    </tr>\n",
              "    <tr>\n",
              "      <th>195</th>\n",
              "      <td>38.2</td>\n",
              "      <td>3.7</td>\n",
              "      <td>13.8</td>\n",
              "      <td>7.6</td>\n",
              "    </tr>\n",
              "    <tr>\n",
              "      <th>196</th>\n",
              "      <td>94.2</td>\n",
              "      <td>4.9</td>\n",
              "      <td>8.1</td>\n",
              "      <td>9.7</td>\n",
              "    </tr>\n",
              "    <tr>\n",
              "      <th>197</th>\n",
              "      <td>177.0</td>\n",
              "      <td>9.3</td>\n",
              "      <td>6.4</td>\n",
              "      <td>12.8</td>\n",
              "    </tr>\n",
              "    <tr>\n",
              "      <th>198</th>\n",
              "      <td>283.6</td>\n",
              "      <td>42.0</td>\n",
              "      <td>66.2</td>\n",
              "      <td>25.5</td>\n",
              "    </tr>\n",
              "    <tr>\n",
              "      <th>199</th>\n",
              "      <td>232.1</td>\n",
              "      <td>8.6</td>\n",
              "      <td>8.7</td>\n",
              "      <td>13.4</td>\n",
              "    </tr>\n",
              "  </tbody>\n",
              "</table>\n",
              "<p>200 rows × 4 columns</p>\n",
              "</div>"
            ],
            "text/plain": [
              "        tv  radio  jornal  vendas\n",
              "0    230.1   37.8    69.2    22.1\n",
              "1     44.5   39.3    45.1    10.4\n",
              "2     17.2   45.9    69.3     9.3\n",
              "3    151.5   41.3    58.5    18.5\n",
              "4    180.8   10.8    58.4    12.9\n",
              "..     ...    ...     ...     ...\n",
              "195   38.2    3.7    13.8     7.6\n",
              "196   94.2    4.9     8.1     9.7\n",
              "197  177.0    9.3     6.4    12.8\n",
              "198  283.6   42.0    66.2    25.5\n",
              "199  232.1    8.6     8.7    13.4\n",
              "\n",
              "[200 rows x 4 columns]"
            ]
          },
          "metadata": {},
          "execution_count": 26
        }
      ]
    },
    {
      "cell_type": "code",
      "metadata": {
        "colab": {
          "base_uri": "https://localhost:8080/",
          "height": 388
        },
        "id": "95TUcZmTMPsW",
        "outputId": "41509ebd-a6e0-4036-a494-860153e64979"
      },
      "source": [
        "# plotando os dados brutos\n",
        "plt.figure(figsize = (12,6))\n",
        "plt.scatter(\n",
        "    df['tv'], \n",
        "    df['vendas'], \n",
        "    c='red')\n",
        "plt.xlabel(\" ($) Gasto em propaganda de TV\")\n",
        "plt.ylabel(\" ($) Vendas\")\n",
        "plt.show()"
      ],
      "execution_count": null,
      "outputs": [
        {
          "output_type": "display_data",
          "data": {
            "image/png": "[encoded data removed]",
            "text/plain": [
              "<Figure size 864x432 with 1 Axes>"
            ]
          },
          "metadata": {
            "needs_background": "light"
          }
        }
      ]
    },
    {
      "cell_type": "code",
      "metadata": {
        "colab": {
          "base_uri": "https://localhost:8080/"
        },
        "id": "X4AqI83VMR04",
        "outputId": "c5dacb03-6898-4fcc-da93-10a843535395"
      },
      "source": [
        "# Prevendo o retorno do investimento (RoI)\n",
        "X = df['tv'].values.reshape(-1,1)\n",
        "y = df['vendas'].values.reshape(-1,1)\n",
        "\n",
        "reg = LinearRegression()\n",
        "reg.fit(X, y)\n",
        "print(\"Vendas = {:.5} + {:.5}X\".format(reg.intercept_[0], reg.coef_[0][0]))\n",
        "\n",
        "# Aqui temos o nosso modelo, onde os dois primeiros valores são as constantes \n",
        "# geradas pelo modelo, e o \"X\" representa o valor investido em propaganda de TV, \n",
        "# ou seja, essa é a conta matemática que nos ajuda a prever o retorno de um \n",
        "# investimento!"
      ],
      "execution_count": null,
      "outputs": [
        {
          "output_type": "stream",
          "name": "stdout",
          "text": [
            "Vendas = 7.0326 + 0.047537X\n"
          ]
        }
      ]
    },
    {
      "cell_type": "code",
      "metadata": {
        "colab": {
          "base_uri": "https://localhost:8080/",
          "height": 388
        },
        "id": "8mrvF8MIMTcb",
        "outputId": "abd2d30f-bad4-4900-ba1a-446fdc8d0674"
      },
      "source": [
        "# plotando a regressão sobre os dados brutos\n",
        "previsoes = reg.predict(X)\n",
        "\n",
        "plt.figure(figsize = (12,6))\n",
        "plt.scatter(\n",
        "    df['tv'], \n",
        "    df['vendas'], \n",
        "    c='red')\n",
        "\n",
        "plt.plot(\n",
        "    df['tv'],\n",
        "    previsoes,\n",
        "    c='blue',\n",
        "    linewidth=3,\n",
        "    linestyle=':'\n",
        ")\n",
        "\n",
        "plt.xlabel(\" ($) Gasto em propaganda de TV\")\n",
        "plt.ylabel(\" ($) Vendas\")\n",
        "plt.show()"
      ],
      "execution_count": null,
      "outputs": [
        {
          "output_type": "display_data",
          "data": {
            "image/png": "[encoded data removed]",
            "text/plain": [
              "<Figure size 864x432 with 1 Axes>"
            ]
          },
          "metadata": {
            "needs_background": "light"
          }
        }
      ]
    },
    {
      "cell_type": "code",
      "metadata": {
        "colab": {
          "base_uri": "https://localhost:8080/"
        },
        "id": "jLlIBCEYMU9i",
        "outputId": "5a50865f-5252-4700-a74f-c71bca429c17"
      },
      "source": [
        "# Fazendo a predição de um valor específico para uma televisão\n",
        "reg.predict(np.array([[120]]).reshape(-1,1))"
      ],
      "execution_count": null,
      "outputs": [
        {
          "output_type": "execute_result",
          "data": {
            "text/plain": [
              "array([[12.7369904]])"
            ]
          },
          "metadata": {},
          "execution_count": 34
        }
      ]
    },
    {
      "cell_type": "code",
      "metadata": {
        "colab": {
          "base_uri": "https://localhost:8080/"
        },
        "id": "Li-ekuw-MbS8",
        "outputId": "03eab304-1202-4da4-b043-55261fd96989"
      },
      "source": [
        "# Avaliando o modelo\n",
        "X = df['tv']\n",
        "y = df['vendas']\n",
        "X2 = sm.add_constant(X)\n",
        "est = sm.OLS(y, X2)\n",
        "est2 = est.fit()\n",
        "print(est2.summary())"
      ],
      "execution_count": null,
      "outputs": [
        {
          "output_type": "stream",
          "name": "stdout",
          "text": [
            "                            OLS Regression Results                            \n",
            "==============================================================================\n",
            "Dep. Variable:                 vendas   R-squared:                       0.612\n",
            "Model:                            OLS   Adj. R-squared:                  0.610\n",
            "Method:                 Least Squares   F-statistic:                     312.1\n",
            "Date:                Fri, 03 Dec 2021   Prob (F-statistic):           1.47e-42\n",
            "Time:                        14:06:20   Log-Likelihood:                -519.05\n",
            "No. Observations:                 200   AIC:                             1042.\n",
            "Df Residuals:                     198   BIC:                             1049.\n",
            "Df Model:                           1                                         \n",
            "Covariance Type:            nonrobust                                         \n",
            "==============================================================================\n",
            "                 coef    std err          t      P>|t|      [0.025      0.975]\n",
            "------------------------------------------------------------------------------\n",
            "const          7.0326      0.458     15.360      0.000       6.130       7.935\n",
            "tv             0.0475      0.003     17.668      0.000       0.042       0.053\n",
            "==============================================================================\n",
            "Omnibus:                        0.531   Durbin-Watson:                   1.935\n",
            "Prob(Omnibus):                  0.767   Jarque-Bera (JB):                0.669\n",
            "Skew:                          -0.089   Prob(JB):                        0.716\n",
            "Kurtosis:                       2.779   Cond. No.                         338.\n",
            "==============================================================================\n",
            "\n",
            "Warnings:\n",
            "[1] Standard Errors assume that the covariance matrix of the errors is correctly specified.\n"
          ]
        }
      ]
    },
    {
      "cell_type": "code",
      "metadata": {
        "id": "R0Or2TJhMcqj"
      },
      "source": [
        "# Observe que o R² está em 0.612, isso quer dizer que aproximadamente 60% do \n",
        "# comportamento da variável \"Vendas\" é explicado pela variável \"TV\".\n",
        "\n",
        "# Quando analisamos o \"p-valor\" observamos que ele está bem baixo, \n",
        "# algo bem próximo à zero foi encoberto pelo arredondamento, \n",
        "# isso nos faz rejeitar a hipótese nula."
      ],
      "execution_count": null,
      "outputs": []
    },
    {
      "cell_type": "markdown",
      "metadata": {
        "id": "LnDb3cY4MhYi"
      },
      "source": [
        "# Regressão Linear Múltipla"
      ]
    },
    {
      "cell_type": "code",
      "metadata": {
        "colab": {
          "base_uri": "https://localhost:8080/"
        },
        "id": "0dzjvRGaMfWS",
        "outputId": "d3721e84-1ff5-46c8-ad48-c480cff6665c"
      },
      "source": [
        "# Prevendo o valor de vendas\n",
        "Xs = df.drop(['seq', 'vendas'], axis=1)\n",
        "y = df['vendas'].values.reshape(-1,1)\n",
        "\n",
        "reg = LinearRegression()\n",
        "reg.fit(Xs, y)\n",
        "\n",
        "print(\"Vendas = {:.5} + {:.5}*TV + {:.5}*radio + {:.5}*jornal\".format(reg.intercept_[0], reg.coef_[0][0], reg.coef_[0][1], reg.coef_[0][2]))"
      ],
      "execution_count": null,
      "outputs": [
        {
          "output_type": "stream",
          "name": "stdout",
          "text": [
            "Vendas = 2.9389 + 0.045765*TV + 0.18853*radio + -0.0010375*jornal\n"
          ]
        }
      ]
    },
    {
      "cell_type": "code",
      "metadata": {
        "colab": {
          "base_uri": "https://localhost:8080/"
        },
        "id": "DNMS-aRrMmTz",
        "outputId": "7e597201-2ab2-4cb3-9193-efb1346870ee"
      },
      "source": [
        "# Fazendo a predição de um valor específico para uma televisão\n",
        "reg.predict(np.array([[230.1, 40, 78]]))"
      ],
      "execution_count": null,
      "outputs": [
        {
          "output_type": "execute_result",
          "data": {
            "text/plain": [
              "array([[20.92961051]])"
            ]
          },
          "metadata": {},
          "execution_count": 43
        }
      ]
    },
    {
      "cell_type": "code",
      "metadata": {
        "colab": {
          "base_uri": "https://localhost:8080/"
        },
        "id": "JXO4E4JRMpAa",
        "outputId": "36d3df58-3fb1-4947-d67b-fd72f3c0c890"
      },
      "source": [
        "# Verificando a precisão do modelo\n",
        "X = np.column_stack((df['tv'], df['radio'], df['jornal']))\n",
        "y = df['vendas']\n",
        "\n",
        "X2 = sm.add_constant(X)\n",
        "est = sm.OLS(y, X2)\n",
        "est2 = est.fit()\n",
        "print(est2.summary())"
      ],
      "execution_count": null,
      "outputs": [
        {
          "output_type": "stream",
          "name": "stdout",
          "text": [
            "                            OLS Regression Results                            \n",
            "==============================================================================\n",
            "Dep. Variable:                 vendas   R-squared:                       0.897\n",
            "Model:                            OLS   Adj. R-squared:                  0.896\n",
            "Method:                 Least Squares   F-statistic:                     570.3\n",
            "Date:                Fri, 03 Dec 2021   Prob (F-statistic):           1.58e-96\n",
            "Time:                        14:09:38   Log-Likelihood:                -386.18\n",
            "No. Observations:                 200   AIC:                             780.4\n",
            "Df Residuals:                     196   BIC:                             793.6\n",
            "Df Model:                           3                                         \n",
            "Covariance Type:            nonrobust                                         \n",
            "==============================================================================\n",
            "                 coef    std err          t      P>|t|      [0.025      0.975]\n",
            "------------------------------------------------------------------------------\n",
            "const          2.9389      0.312      9.422      0.000       2.324       3.554\n",
            "x1             0.0458      0.001     32.809      0.000       0.043       0.049\n",
            "x2             0.1885      0.009     21.893      0.000       0.172       0.206\n",
            "x3            -0.0010      0.006     -0.177      0.860      -0.013       0.011\n",
            "==============================================================================\n",
            "Omnibus:                       60.414   Durbin-Watson:                   2.084\n",
            "Prob(Omnibus):                  0.000   Jarque-Bera (JB):              151.241\n",
            "Skew:                          -1.327   Prob(JB):                     1.44e-33\n",
            "Kurtosis:                       6.332   Cond. No.                         454.\n",
            "==============================================================================\n",
            "\n",
            "Warnings:\n",
            "[1] Standard Errors assume that the covariance matrix of the errors is correctly specified.\n"
          ]
        }
      ]
    },
    {
      "cell_type": "code",
      "metadata": {
        "id": "xDPXunyiMqcn"
      },
      "source": [
        "# Observe que agora temos um modelo muito melhor, onde quase 90% dos \n",
        "# resultados em vendas são explicados pelas variáveis que temos. \n",
        "\n",
        "# Além disso, é importante observar a informação dada pela \"Estatística-F\", \n",
        "# esse número mostra que temos uma variância muito alta em nosso \n",
        "# conjunto de dados, provavelmente explicada pelo tamanho muito pequeno de apenas\n",
        "# 200 observações no dataset."
      ],
      "execution_count": null,
      "outputs": []
    },
    {
      "cell_type": "code",
      "metadata": {
        "id": "0DNxuFpfMs9k"
      },
      "source": [
        ""
      ],
      "execution_count": null,
      "outputs": []
    }
  ]
}