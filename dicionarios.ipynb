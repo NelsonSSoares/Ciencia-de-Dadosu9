{
  "nbformat": 4,
  "nbformat_minor": 0,
  "metadata": {
    "colab": {
      "name": "Dicionarios_sex_manha.ipynb",
      "provenance": [],
      "collapsed_sections": [],
      "include_colab_link": true
    },
    "kernelspec": {
      "name": "python3",
      "display_name": "Python 3"
    },
    "language_info": {
      "name": "python"
    }
  },
  "cells": [
    {
      "cell_type": "markdown",
      "metadata": {
        "id": "view-in-github",
        "colab_type": "text"
      },
      "source": [
        "<a href=\"https://colab.research.google.com/github/NelsonSSoares/AulasPython-u9/blob/main/CienciadeDadoa/dicionarios.ipynb\" target=\"_parent\"><img src=\"https://colab.research.google.com/assets/colab-badge.svg\" alt=\"Open In Colab\"/></a>"
      ]
    },
    {
      "cell_type": "markdown",
      "metadata": {
        "id": "UrRkpP3RnMdT"
      },
      "source": [
        "# Correção do exercício da aula anterior\n",
        "\n"
      ]
    },
    {
      "cell_type": "code",
      "metadata": {
        "colab": {
          "base_uri": "https://localhost:8080/"
        },
        "id": "fjEjeFQ0qyiI",
        "outputId": "3043da3c-3216-4336-e89c-62ef96ccfb7e"
      },
      "source": [
        "# Resolução José Victor\n",
        "import math as m\n",
        "prime = []\n",
        "log_numeros_primos = []\n",
        "limit = int(input(\"Digite o limite máximo: \"))\n",
        "for i in range(2,limit+1): \n",
        "  if i > 1:\n",
        "      for j in range(2,i):\n",
        "        if(i % j)==0:\n",
        "              break\n",
        "      else:\n",
        "        # print(f\"{i} é primo\")\n",
        "        prime.append(i)\n",
        "        \n",
        "print(f\"A lista de números primos até {limit} é {prime}\")\n",
        "for item in prime:\n",
        "  log_numeros_primos.append(m.log(item))\n",
        "print(f\"Logaritmos dos números primos de posição 10 até 20:\\n\")\n",
        "for prnt in range(9, 20):\n",
        "  print(\"{:3>,.2f}\".format(log_numeros_primos[prnt]), end=\" - \")"
      ],
      "execution_count": null,
      "outputs": [
        {
          "output_type": "stream",
          "name": "stdout",
          "text": [
            "Digite o limite máximo: 100\n",
            "A lista de números primos até 100 é [2, 3, 5, 7, 11, 13, 17, 19, 23, 29, 31, 37, 41, 43, 47, 53, 59, 61, 67, 71, 73, 79, 83, 89, 97]\n",
            "Logaritmos dos números primos de posição 10 até 20:\n",
            "\n",
            "3.37 - 3.43 - 3.61 - 3.71 - 3.76 - 3.85 - 3.97 - 4.08 - 4.11 - 4.20 - 4.26 - "
          ]
        }
      ]
    },
    {
      "cell_type": "code",
      "metadata": {
        "colab": {
          "base_uri": "https://localhost:8080/"
        },
        "id": "_c13mncmrpEx",
        "outputId": "d38c275c-40f6-4047-8bc3-b33ace1b7dc7"
      },
      "source": [
        "# Resolução da Renata\n",
        "import math\n",
        "primos = []\n",
        "def primo(x):\n",
        "    for n in range(1, x+1): \n",
        "        div = 0 \n",
        "        for i in range(1, n+1): \n",
        "             if(n%i == 0): \n",
        "                 div += 1 \n",
        "        if (div == 2): \n",
        "             primos.append(n) \n",
        "    print(primos) \n",
        "primo(100) \n",
        " \n",
        "log_numeros_primos = [] \n",
        " \n",
        "for numero in primos:\n",
        "    log_numeros_primos.append(math.log(numero)) \n",
        " \n",
        "print(log_numeros_primos[9:20]) "
      ],
      "execution_count": null,
      "outputs": [
        {
          "output_type": "stream",
          "name": "stdout",
          "text": [
            "[2, 3, 5, 7, 11, 13, 17, 19, 23, 29, 31, 37, 41, 43, 47, 53, 59, 61, 67, 71, 73, 79, 83, 89, 97]\n",
            "[3.367295829986474, 3.4339872044851463, 3.6109179126442243, 3.713572066704308, 3.7612001156935624, 3.8501476017100584, 3.970291913552122, 4.07753744390572, 4.110873864173311, 4.204692619390966, 4.2626798770413155]\n"
          ]
        }
      ]
    },
    {
      "cell_type": "code",
      "metadata": {
        "id": "jRMUPqMksL58"
      },
      "source": [
        "# Resolução Edson\n",
        "from math import log\n",
        "\n",
        "numeros_primos = [2, 3, 5, 7, 11, 13, 17, 19, 23, 29, 31, 37, 41, 43, 47, 53, 59, 61, 67, 71, 73, 79, 83, 89, 97]\n",
        "log_numeros_primos = []\n",
        "\n",
        "for n in numeros_primos:\n",
        "    log_numeros_primos.append(log(n))\n",
        "\n",
        "for n_log in log_numeros_primos[9:20]:\n",
        "    print(n_log)\n"
      ],
      "execution_count": null,
      "outputs": []
    },
    {
      "cell_type": "markdown",
      "metadata": {
        "id": "opl4P9wnvrFo"
      },
      "source": [
        "# Geração dos Números Primos"
      ]
    },
    {
      "cell_type": "code",
      "metadata": {
        "id": "8AI52JOWvuex"
      },
      "source": [
        "from datetime import datetime"
      ],
      "execution_count": null,
      "outputs": []
    },
    {
      "cell_type": "code",
      "metadata": {
        "colab": {
          "base_uri": "https://localhost:8080/"
        },
        "id": "RW2kGUk3sqiy",
        "outputId": "3067c4c1-f0c3-4d09-833a-1c67c477f331"
      },
      "source": [
        "# José Victor - Geração dos primos\n",
        "start_time = datetime.now()\n",
        "prime = []\n",
        "for i in range(2,30000): \n",
        "  if i > 1:\n",
        "      for j in range(2,i):\n",
        "        if(i % j)==0:\n",
        "              break\n",
        "      else:\n",
        "        # print(f\"{i} é primo\")\n",
        "        prime.append(i)\n",
        "prime\n",
        "end_time = datetime.now()\n",
        "print(end_time - start_time)"
      ],
      "execution_count": null,
      "outputs": [
        {
          "output_type": "stream",
          "name": "stdout",
          "text": [
            "0:00:05.719385\n"
          ]
        }
      ]
    },
    {
      "cell_type": "code",
      "metadata": {
        "colab": {
          "base_uri": "https://localhost:8080/"
        },
        "id": "lYILCGjItTD5",
        "outputId": "03d64489-4a9b-4606-cf5c-a763a4692463"
      },
      "source": [
        "# Renata - Geração dos primos\n",
        "start_time = datetime.now()\n",
        "primos = []\n",
        "def primo(x):\n",
        "    for n in range(1, x+1): \n",
        "        div = 0 \n",
        "        for i in range(1, n+1): \n",
        "             if(n%i == 0): \n",
        "                 div += 1 \n",
        "        if (div == 2): \n",
        "             primos.append(n) \n",
        "primo(30000)\n",
        "primos\n",
        "end_time = datetime.now()\n",
        "print(end_time - start_time)"
      ],
      "execution_count": null,
      "outputs": [
        {
          "output_type": "stream",
          "name": "stdout",
          "text": [
            "0:00:39.454853\n"
          ]
        }
      ]
    },
    {
      "cell_type": "code",
      "metadata": {
        "colab": {
          "base_uri": "https://localhost:8080/"
        },
        "id": "04Qdj_lvt8Ae",
        "outputId": "f0c8b708-4b33-455e-e34a-4280735c3420"
      },
      "source": [
        "# Edson - Geração dos primos\n",
        "from math import sqrt\n",
        "\n",
        "start_time = datetime.now()\n",
        "numero = 30000\n",
        "aux = 0\n",
        "aux1 = 0\n",
        "\n",
        "seq_primos = []\n",
        "\n",
        "if numero > 3:\n",
        "    seq_primos.append(2)\n",
        "    seq_primos.append(3)\n",
        "\n",
        "while numero > 1:\n",
        "    aux = sqrt(numero)\n",
        "    aux = int(aux)\n",
        "    aux1 = 0\n",
        "    while aux >= 2:\n",
        "        if numero % aux == 0:\n",
        "            aux1 += 1\n",
        "        if aux == 2:\n",
        "            if aux1 == 0:\n",
        "                seq_primos.append(numero)\n",
        "        aux -= 1\n",
        "    numero -=1\n",
        "\n",
        "seq_primos.sort()\n",
        "seq_primos[len(seq_primos)-1] # pega o último número da lista\n",
        "\n",
        "end_time = datetime.now()\n",
        "print(end_time - start_time)"
      ],
      "execution_count": null,
      "outputs": [
        {
          "output_type": "stream",
          "name": "stdout",
          "text": [
            "0:00:00.784073\n"
          ]
        }
      ]
    },
    {
      "cell_type": "markdown",
      "metadata": {
        "id": "XPS75TeqzgGM"
      },
      "source": [
        "---\n",
        "\n",
        "# Dicionários\n",
        "Estruturas de dados similares a listas, mas não são ordenados.\n",
        "\n",
        "Sua composição é dada por um par `chave`: `valor` ou `key` : `value`\n",
        "\n",
        "Enquanto o delimitador de listas são os colchetes, para os dicionários são as chaves `{}`"
      ]
    },
    {
      "cell_type": "code",
      "metadata": {
        "colab": {
          "base_uri": "https://localhost:8080/"
        },
        "id": "FZDuBT3vva74",
        "outputId": "cf607a4a-0fdf-4e7d-eacd-2b8522b2107b"
      },
      "source": [
        "# Declaração de um dicionário\n",
        "aluno = {\n",
        "    'ra': 123,\n",
        "    'nome': 'Edson Melo',\n",
        "    'formacao': 'Ciência da Computação'\n",
        "}\n",
        "aluno"
      ],
      "execution_count": null,
      "outputs": [
        {
          "output_type": "execute_result",
          "data": {
            "text/plain": [
              "{'formacao': 'Ciência da Computação', 'nome': 'Edson Melo', 'ra': 123}"
            ]
          },
          "metadata": {},
          "execution_count": 29
        }
      ]
    },
    {
      "cell_type": "code",
      "metadata": {
        "colab": {
          "base_uri": "https://localhost:8080/"
        },
        "id": "39DfWRbv3I02",
        "outputId": "e5382547-e202-4985-f03c-d80163735ad3"
      },
      "source": [
        "# Acessando dados de um dicionário\n",
        "print(aluno['ra'])\n",
        "print(aluno['nome'])\n",
        "print(aluno['formacao'])"
      ],
      "execution_count": null,
      "outputs": [
        {
          "output_type": "stream",
          "name": "stdout",
          "text": [
            "123\n",
            "Edson Melo\n",
            "Ciência da Computação\n"
          ]
        }
      ]
    },
    {
      "cell_type": "code",
      "metadata": {
        "colab": {
          "base_uri": "https://localhost:8080/"
        },
        "id": "a89TtIVk3hOE",
        "outputId": "7406dfa3-e74e-44d9-b0d8-84672e3acc92"
      },
      "source": [
        "# Outra forma de acessar uma chave\n",
        "print(aluno.get('ra'))\n",
        "print(aluno.get('nome'))\n",
        "print(aluno.get('formacao'))"
      ],
      "execution_count": null,
      "outputs": [
        {
          "output_type": "stream",
          "name": "stdout",
          "text": [
            "123\n",
            "Edson Melo\n",
            "Ciência da Computação\n"
          ]
        }
      ]
    },
    {
      "cell_type": "code",
      "metadata": {
        "colab": {
          "base_uri": "https://localhost:8080/"
        },
        "id": "IRBA_m3M30nv",
        "outputId": "de9dff84-14b1-41e1-e3d6-a85024349a17"
      },
      "source": [
        "print(aluno.get('ra'), aluno.get('nome'), aluno.get('formacao'), sep=\"\\n\")"
      ],
      "execution_count": null,
      "outputs": [
        {
          "output_type": "stream",
          "name": "stdout",
          "text": [
            "123\n",
            "Edson Melo\n",
            "Ciência da Computação\n"
          ]
        }
      ]
    },
    {
      "cell_type": "code",
      "metadata": {
        "colab": {
          "base_uri": "https://localhost:8080/"
        },
        "id": "C6sT83br4nRT",
        "outputId": "ae0d1af6-c398-454e-b92a-e216d185d256"
      },
      "source": [
        "# exemplo de saída\n",
        "aluno.get('ra'), aluno.get('nome'), aluno.get('formacao')"
      ],
      "execution_count": null,
      "outputs": [
        {
          "output_type": "execute_result",
          "data": {
            "text/plain": [
              "(123, 'Edson Melo', 'Ciência da Computação')"
            ]
          },
          "metadata": {},
          "execution_count": 37
        }
      ]
    },
    {
      "cell_type": "code",
      "metadata": {
        "colab": {
          "base_uri": "https://localhost:8080/"
        },
        "id": "qd_5HxQL4-by",
        "outputId": "39568a8a-9719-4a7b-8b23-9ba36a9d5a4f"
      },
      "source": [
        "# Percorrer um dicionário (iterar)\n",
        "chaves = aluno.keys()\n",
        "chaves"
      ],
      "execution_count": null,
      "outputs": [
        {
          "output_type": "execute_result",
          "data": {
            "text/plain": [
              "dict_keys(['ra', 'nome', 'formacao'])"
            ]
          },
          "metadata": {},
          "execution_count": 38
        }
      ]
    },
    {
      "cell_type": "code",
      "metadata": {
        "colab": {
          "base_uri": "https://localhost:8080/"
        },
        "id": "eSQSvZcT5rUC",
        "outputId": "af12d616-7b13-43e4-9bb3-ef7ea2c44b95"
      },
      "source": [
        "# percorrer\n",
        "for chave in chaves:\n",
        "  print(aluno[chave])\n",
        "\n",
        "# ou\n",
        "print()\n",
        "\n",
        "for chave in chaves:\n",
        "  print(aluno.get(chave))"
      ],
      "execution_count": null,
      "outputs": [
        {
          "output_type": "stream",
          "name": "stdout",
          "text": [
            "123\n",
            "Edson Melo\n",
            "Ciência da Computação\n",
            "\n",
            "123\n",
            "Edson Melo\n",
            "Ciência da Computação\n"
          ]
        }
      ]
    },
    {
      "cell_type": "code",
      "metadata": {
        "colab": {
          "base_uri": "https://localhost:8080/"
        },
        "id": "uQx2gzW56B2e",
        "outputId": "d09c3672-8607-4669-a15f-23d9336a8392"
      },
      "source": [
        "# iterar de forma mais \"profissa\"\n",
        "for chave, valor in aluno.items():\n",
        "  print(chave, valor)"
      ],
      "execution_count": null,
      "outputs": [
        {
          "output_type": "stream",
          "name": "stdout",
          "text": [
            "ra 123\n",
            "nome Edson Melo\n",
            "formacao Ciência da Computação\n"
          ]
        }
      ]
    },
    {
      "cell_type": "markdown",
      "metadata": {
        "id": "fnems1w27zIg"
      },
      "source": [
        "# Operações com Dicionários\n",
        "* Inclusão\n",
        "* Remoção\n",
        "* Atualização"
      ]
    },
    {
      "cell_type": "code",
      "metadata": {
        "colab": {
          "base_uri": "https://localhost:8080/"
        },
        "id": "XNxD1gU16a_K",
        "outputId": "09bd686f-1ca8-4b48-fd79-3412701e06d2"
      },
      "source": [
        "# Inclusão - Forma 1\n",
        "aluno['AV1'] = 7.8\n",
        "print(aluno)"
      ],
      "execution_count": null,
      "outputs": [
        {
          "output_type": "stream",
          "name": "stdout",
          "text": [
            "{'ra': 123, 'nome': 'Edson Melo', 'formacao': 'Ciência da Computação', 'AV1': 7.8}\n"
          ]
        }
      ]
    },
    {
      "cell_type": "code",
      "metadata": {
        "colab": {
          "base_uri": "https://localhost:8080/"
        },
        "id": "hQ4TZ5YH6n6q",
        "outputId": "6eff8a0f-ea94-42a2-a36c-85d5aab55fe4"
      },
      "source": [
        "# Inclusão - Forma 2\n",
        "# Usando o método (dual) update()\n",
        "# Se não a exisitr, será criada, senão, atualizada\n",
        "aluno.update({'AV2': 7.3})\n",
        "print(aluno)"
      ],
      "execution_count": null,
      "outputs": [
        {
          "output_type": "stream",
          "name": "stdout",
          "text": [
            "{'ra': 123, 'nome': 'Edson Melo', 'formacao': 'Ciência da Computação', 'AV1': 7.8, 'AV2': 7.3}\n"
          ]
        }
      ]
    },
    {
      "cell_type": "code",
      "metadata": {
        "colab": {
          "base_uri": "https://localhost:8080/"
        },
        "id": "wyJJrlry8rF6",
        "outputId": "d3fdd286-44ef-465d-99a6-6f56b6ad0b1b"
      },
      "source": [
        "# Atualizar\n",
        "aluno.update({'AV1': 9.7})\n",
        "print(aluno)"
      ],
      "execution_count": null,
      "outputs": [
        {
          "output_type": "stream",
          "name": "stdout",
          "text": [
            "{'ra': 123, 'nome': 'Edson Melo', 'formacao': 'Ciência da Computação', 'AV1': 9.7, 'AV2': 7.3}\n"
          ]
        }
      ]
    },
    {
      "cell_type": "code",
      "metadata": {
        "colab": {
          "base_uri": "https://localhost:8080/"
        },
        "id": "Z3enIuz_94Y6",
        "outputId": "66b5dde2-597e-40dc-b3b2-cf3f0dc079ae"
      },
      "source": [
        "# Remoção - não funciona com .get()\n",
        "del aluno['nome']\n",
        "aluno"
      ],
      "execution_count": null,
      "outputs": [
        {
          "output_type": "execute_result",
          "data": {
            "text/plain": [
              "{'AV1': 9.7, 'AV2': 7.3, 'formacao': 'Ciência da Computação', 'ra': 123}"
            ]
          },
          "metadata": {},
          "execution_count": 47
        }
      ]
    },
    {
      "cell_type": "code",
      "metadata": {
        "colab": {
          "base_uri": "https://localhost:8080/"
        },
        "id": "KIrW6L-x860P",
        "outputId": "2b42f322-4406-477f-c6b0-ee28eacce93a"
      },
      "source": [
        "# Treinando....\n",
        "# 1. Atualizar as notas da AV1 e AV2 de uma vez só\n",
        "# 2. Criar um dicionário com as seguintes chaves: id, nome, email e \n",
        "# mostrar apenas o valor da chave \"id\"\n",
        "\n",
        "#1\n",
        "aluno.update(\n",
        "    {\n",
        "      'AV1': 5.0,\n",
        "      'AV2': 7.1\n",
        "    })\n",
        "print(aluno)"
      ],
      "execution_count": null,
      "outputs": [
        {
          "output_type": "stream",
          "name": "stdout",
          "text": [
            "{'ra': 123, 'formacao': 'Ciência da Computação', 'AV1': 5.0, 'AV2': 7.1}\n"
          ]
        }
      ]
    },
    {
      "cell_type": "code",
      "metadata": {
        "colab": {
          "base_uri": "https://localhost:8080/"
        },
        "id": "_1Ojf3pJ_Sge",
        "outputId": "a6850c6b-d9d7-467e-b8f8-d2719c13d496"
      },
      "source": [
        "#2 - Forma 1\n",
        "dicionario = {\n",
        "    'id': [1],\n",
        "    'nome':['Raphael'],\n",
        "    'email':['raphael@email.com']\n",
        "}\n",
        "print(dicionario['id'])"
      ],
      "execution_count": null,
      "outputs": [
        {
          "output_type": "stream",
          "name": "stdout",
          "text": [
            "[1]\n"
          ]
        }
      ]
    },
    {
      "cell_type": "code",
      "metadata": {
        "colab": {
          "base_uri": "https://localhost:8080/"
        },
        "id": "0cltN4ub_l1f",
        "outputId": "96d5b049-fd30-4535-d97b-a1cc6d9e9cd1"
      },
      "source": [
        "#2 - Forma 2\n",
        "pessoa = {}\n",
        "pessoa.update({'ID': 1,'EMAIL': 'test.agor.com'})\n",
        "print(pessoa)"
      ],
      "execution_count": null,
      "outputs": [
        {
          "output_type": "stream",
          "name": "stdout",
          "text": [
            "{'ID': 1, 'EMAIL': 'test.agor.com'}\n"
          ]
        }
      ]
    },
    {
      "cell_type": "markdown",
      "metadata": {
        "id": "OU63S58mApgX"
      },
      "source": [
        "# Integrando listas com dicionários"
      ]
    },
    {
      "cell_type": "code",
      "metadata": {
        "colab": {
          "base_uri": "https://localhost:8080/"
        },
        "id": "zHYZh_WYADaP",
        "outputId": "cc9e4bbc-08ae-4edf-b8bf-5cac9d581bf6"
      },
      "source": [
        "dict_exemplo = {\n",
        "    'id': 123,\n",
        "    'nome': 'Edson Melo',\n",
        "    'notas': [ # criação de uma lista para guardar as notas\n",
        "              {'Disciplina': 'Ciência de Dados', 'AV1': 5.5},\n",
        "              {'Disciplina': 'Mobile', 'AV1': 6.5},\n",
        "              {'Disciplina': 'Redes', 'AV1': 4.5},\n",
        "    ]\n",
        "}\n",
        "print(dict_exemplo)"
      ],
      "execution_count": null,
      "outputs": [
        {
          "output_type": "stream",
          "name": "stdout",
          "text": [
            "{'id': 123, 'nome': 'Edson Melo', 'notas': [{'Disciplina': 'Ciência de Dados', 'AV1': 5.5}, {'Disciplina': 'Mobile', 'AV1': 6.5}, {'Disciplina': 'Redes', 'AV1': 4.5}]}\n"
          ]
        }
      ]
    },
    {
      "cell_type": "code",
      "metadata": {
        "colab": {
          "base_uri": "https://localhost:8080/"
        },
        "id": "BVJCUyUoBXX3",
        "outputId": "2dd664d9-9442-465c-8b3a-792809c24888"
      },
      "source": [
        "# Exemplo 2\n",
        "alunos = []\n",
        "alunos.append({'id': 1, 'nome': 'Edson Melo'}), \n",
        "alunos.append({'id': 2, 'nome': 'Tania Maria'})\n",
        "print(alunos)"
      ],
      "execution_count": null,
      "outputs": [
        {
          "output_type": "stream",
          "name": "stdout",
          "text": [
            "[{'id': 1, 'nome': 'Edson Melo'}, {'id': 2, 'nome': 'Tania Maria'}]\n"
          ]
        }
      ]
    },
    {
      "cell_type": "code",
      "metadata": {
        "colab": {
          "base_uri": "https://localhost:8080/"
        },
        "id": "1SZqmXHyBu4s",
        "outputId": "34727901-7696-4f1c-8b84-17853c64269c"
      },
      "source": [
        "# Pergunta: como iterar neste caso?\n",
        "for aluno in alunos:\n",
        "  for k, v in aluno.items():\n",
        "    print(k, v)\n",
        "  print()"
      ],
      "execution_count": null,
      "outputs": [
        {
          "output_type": "stream",
          "name": "stdout",
          "text": [
            "id 1\n",
            "nome Edson Melo\n",
            "\n",
            "id 2\n",
            "nome Tania Maria\n",
            "\n"
          ]
        }
      ]
    },
    {
      "cell_type": "markdown",
      "metadata": {
        "id": "adp0PcZlCn2G"
      },
      "source": [
        "# Exercício\n",
        "Utilizando os conceitos de lista e dicionário, mostre o resultado sobre o dicionário abaixo para:\n",
        "* Maior nota\n",
        "* Menor nota\n",
        "* Média das notas"
      ]
    },
    {
      "cell_type": "code",
      "metadata": {
        "id": "siRnhCVYCFlv"
      },
      "source": [
        "alunos = []\n",
        "alunos.append({'nome': 'Aluno 01', 'curso': 'Ciências da Computação', 'AV1':8 })\n",
        "alunos.append({'nome': 'Aluno 02', 'curso': 'Sistemas de Informação', 'AV1':7 })\n",
        "alunos.append({'nome': 'Aluno 03', 'curso': 'Sistemas de Informação', 'AV1':6 })\n",
        "alunos.append({'nome': 'Aluno 04', 'curso': 'Sistemas de Informação', 'AV1':6 })\n",
        "alunos.append({'nome': 'Aluno 05', 'curso': 'Sistemas de Informação', 'AV1':6 })"
      ],
      "execution_count": null,
      "outputs": []
    },
    {
      "cell_type": "code",
      "metadata": {
        "colab": {
          "base_uri": "https://localhost:8080/"
        },
        "id": "fR5TmltmDCdl",
        "outputId": "b247421f-8dcc-4404-f747-3bc946cc8d6d"
      },
      "source": [
        "# Solução 1\n",
        "notas = []\n",
        "\n",
        "for aluno in alunos:\n",
        "  notas.append(aluno['AV1'])\n",
        "\n",
        "print('Maior nota', max(notas))\n",
        "print('Menor nota', min(notas))\n",
        "print('Média nota', sum(notas)/len(notas))"
      ],
      "execution_count": null,
      "outputs": [
        {
          "output_type": "stream",
          "name": "stdout",
          "text": [
            "Maior nota 8\n",
            "Menor nota 6\n",
            "Média nota 6.6\n"
          ]
        }
      ]
    },
    {
      "cell_type": "code",
      "metadata": {
        "colab": {
          "base_uri": "https://localhost:8080/"
        },
        "id": "nJtt2afxDYnc",
        "outputId": "df82cb9f-f591-4748-9808-67a54ed6b335"
      },
      "source": [
        "# Solução 2\n",
        "notas = []\n",
        "\n",
        "# List Comprehension (Compressão de lista)\n",
        "[notas.append(aluno['AV1']) for aluno in alunos]\n",
        "\n",
        "print('Maior nota', max(notas))\n",
        "print('Menor nota', min(notas))\n",
        "print('Média nota', sum(notas)/len(notas))"
      ],
      "execution_count": null,
      "outputs": [
        {
          "output_type": "stream",
          "name": "stdout",
          "text": [
            "Maior nota 8\n",
            "Menor nota 6\n",
            "Média nota 6.6\n"
          ]
        }
      ]
    },
    {
      "cell_type": "code",
      "metadata": {
        "id": "bmQGdUp8HMeD"
      },
      "source": [
        ""
      ],
      "execution_count": null,
      "outputs": []
    }
  ]
}