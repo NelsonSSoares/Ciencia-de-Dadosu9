{
 "cells": [
  {
   "cell_type": "markdown",
   "metadata": {
    "slideshow": {
     "slide_type": "slide"
    }
   },
   "source": [
    "# Aula 11 - *Machine Learning - Parte 1*\n",
    "\n",
    "**Objetivo**: Aprender o que é *Machine Learning* e quais são os componentes de um algoritmo de ML."
   ]
  },
  {
   "cell_type": "markdown",
   "metadata": {
    "slideshow": {
     "slide_type": "slide"
    }
   },
   "source": [
    "## Defininição - *Machine Learning*\n",
    "\n",
    "*Machine Learning* é uma área de estudo que fornece aos computadores a habilidade de aprender sem serem explicitamente programados.\n",
    "\n",
    "> Um programa de computador que aprende a partir da experiência E em relação a algum tipo de tarefa T e alguma medida de desempenho P, se o seu desempenho em T, conforme medido por P, melhor com a experiência E.\n",
    "\n",
    "Mitchell, T. M. (1997). Machine Learning. McGraw-Hill, New York."
   ]
  },
  {
   "cell_type": "markdown",
   "metadata": {
    "slideshow": {
     "slide_type": "subslide"
    }
   },
   "source": [
    "### Experiência (E)\n",
    "\n",
    "Em *Machine Learning* um programa de computador aprende sem ser explicitamente programado. Ele aprende a partir de um conjunto de dados que expressa toda *experiência* (E) que desejamos ensina-lo. Esse conjunto de dados é chamado de **conjunto de treinamento**. \n",
    "\n",
    "* **Aprendizagem Supervisionada**: o conjunto de treinamento é composto por amostras de entradas/saídas.\n",
    "* **Aprendizagem Não-Supervisionada**:  conjunto de treinamento é composto por amostras de entradas apenas."
   ]
  },
  {
   "cell_type": "markdown",
   "metadata": {
    "slideshow": {
     "slide_type": "subslide"
    }
   },
   "source": [
    "### Tarefas (T)\n",
    "\n",
    "* Classificação - Supervisionada qualitativa\n",
    "* Regressão - Supervisionada quantitativa\n",
    "* Agrupamento - Não-supervisionada"
   ]
  },
  {
   "cell_type": "markdown",
   "metadata": {
    "slideshow": {
     "slide_type": "subslide"
    }
   },
   "source": [
    "### Desempenho (P)\n",
    "\n",
    "Para medir o desempenho de um algoritmo de Machine Learning é preciso de uma medida de desempenho para mensurar a qualidade do processo de aprendizagem. Essa medida é conhecida como **função de custo** ou **função de erro**. Essa função é definida de acordo com o tipo de problema (aprendizagem supervisionada ou não-supervisionada). Essa função contém um **conjunto de parâmetros** a serem otimizada pelo um algoritmo de *Machine Learning*.\n",
    "\n",
    "De maneira geral, pode-se dizer que o objetivo do algoritmo de *Machine Learning* é otimizar (aprender) o **conjunto de parâmetros** de tal forma que resultado da função seja o mínimo possível. Isso significa que algoritmo tem uma alta taxa de aprendizagem e uma baixa taxa de erro.\n",
    "\n",
    "* Dividir os dados em\n",
    "* Treino\n",
    "* Teste\n",
    "    * Aqui eu mensuro desempenho (P)"
   ]
  },
  {
   "cell_type": "markdown",
   "metadata": {
    "slideshow": {
     "slide_type": "subslide"
    }
   },
   "source": [
    "<img src=\"https://www.edsonmelo.com.br/dados_csv/images/train-test.png\" alt=\"train-test\" style=\"width: 400px;\"/>"
   ]
  },
  {
   "cell_type": "markdown",
   "metadata": {
    "slideshow": {
     "slide_type": "slide"
    }
   },
   "source": [
    "### Exemplo: jogo de computador\n",
    "- Tarefa $T$ é jogar xadrez. \n",
    "- Medida de desempenho $P$ é uma relação entre partidas ganhas contra oponentes versus perdidas. \n",
    "- Experiência $E$ é prática de partidas concluídas. Note que, estas esperiências são descritas em um conjunto de dados chamado de **conjunto de treinamento**."
   ]
  },
  {
   "cell_type": "markdown",
   "metadata": {
    "slideshow": {
     "slide_type": "subslide"
    }
   },
   "source": [
    "#### Tente responder: Classifique as sentenças a baixo como: Tarefa $T$, Experiências $E$ e Medida de desempenho $P$\n",
    "\n",
    "- Classificar emails como spam ou não spam ?\n",
    "- Verificar quais emails o usuário classifica como spam ?\n",
    "- O número (ou fração) de emails corretamente classificados como spam ou não spam ?"
   ]
  },
  {
   "cell_type": "markdown",
   "metadata": {
    "slideshow": {
     "slide_type": "slide"
    }
   },
   "source": [
    "## Generalização\n",
    "\n",
    "A habilidade de desempenhar bem em dados não observados anteriormente.\n",
    "\n",
    "Mensurada por erro:\n",
    "* Dados de Treino: Erro de Treino\n",
    "* Dados de Teste: Erro de Teste"
   ]
  },
  {
   "cell_type": "markdown",
   "metadata": {
    "slideshow": {
     "slide_type": "subslide"
    }
   },
   "source": [
    "### Erro do Algoritmo\n",
    "\n",
    "2 Fatores:\n",
    "\n",
    "1. Habilidade de Reduzir o Erro de Treino\n",
    "2. Habilidade de Reduzir a Lacuna entre o Erro de Treino e o Erro de Teste\n",
    "\n",
    "<img src=\"https://www.edsonmelo.com.br/dados_csv/images/train-vs-test-error.png\" alt=\"train-vs-test-error\" style=\"width: 400px;\"/>"
   ]
  },
  {
   "cell_type": "markdown",
   "metadata": {
    "slideshow": {
     "slide_type": "subslide"
    }
   },
   "source": [
    "<img src=\"https://www.edsonmelo.com.br/dados_csv/images/trainin4.gif\" alt=\"training\" style=\"width: 500px;\"/>"
   ]
  },
  {
   "cell_type": "markdown",
   "metadata": {
    "slideshow": {
     "slide_type": "subslide"
    }
   },
   "source": [
    "### *Overfitting* e *Underfitting*\n",
    "\n",
    "* Centrais em *Machine Learning*\n",
    "* Underfitting\n",
    "    - Modelos **menos** flexíveis que o ideal\n",
    "* Overfitting\n",
    "    - Modelos **mais** flexíveis que o ideal   \n",
    "\n",
    "<img src=\"https://www.edsonmelo.com.br/dados_csv/images/underfitting-overfitting-capacity.png\" alt=\"underfitting-overfitting-capacity\" style=\"width: 500px;\"/>"
   ]
  },
  {
   "cell_type": "markdown",
   "metadata": {
    "slideshow": {
     "slide_type": "subslide"
    }
   },
   "source": [
    "#### No Free Lunch Theorem (NFL)\n",
    "\n",
    "> “Se você faz nenhum pressuposto dos dados, não há razão para preferir um modelo por outro”\n",
    "\n",
    "> Wolpert, D. H. (1996). The Lack of a Priori Distinctions between Learning Algorithms. Neural Computation, 8(7), 1341–1390. https://doi.org/10.1162/neco.1996.8.7.1341\n",
    "\t\n",
    "* Nenhum modelo é garantido que funcionará melhor\n",
    "    * Ex: para alguns dados, regressão linear é melhor; para outros, redes neurais.\n",
    "* A única maneira de saber é avaliar todos os modelos\n",
    "* Por isso que não há *almoço grátis*"
   ]
  },
  {
   "cell_type": "markdown",
   "metadata": {
    "slideshow": {
     "slide_type": "slide"
    }
   },
   "source": [
    "## Otimização\n",
    "\n",
    "Método mais utilizado é o **Método do Gradiente** (*Gradient Descent*)\n",
    "\n",
    "Inventado em 1847 por Augustin-Louis Cauchy. Usa a derivativa para minimizar uma função-alvo.\n",
    "\n",
    "**Método iterativo**: a cada iteração, tenta ir para o local/global minima\n",
    "\n",
    "<img src=\"https://www.edsonmelo.com.br/dados_csv/images/gradient-descent.png\" alt=\"gradient-descent\" style=\"width: 400px;\"/>"
   ]
  },
  {
   "cell_type": "markdown",
   "metadata": {
    "slideshow": {
     "slide_type": "subslide"
    }
   },
   "source": [
    "<img src=\"https://www.edsonmelo.com.br/dados_csv/images/gradient-descent.gif\" alt=\"gradient-descent-animation\" style=\"width: 500px;\"/>"
   ]
  },
  {
   "cell_type": "markdown",
   "metadata": {
    "slideshow": {
     "slide_type": "subslide"
    }
   },
   "source": [
    "<img src=\"https://www.edsonmelo.com.br/dados_csv/images/gradient-descent-2.gif\" alt=\"gradient-descent-animation\" style=\"width: 500px;\"/>"
   ]
  },
  {
   "cell_type": "markdown",
   "metadata": {
    "slideshow": {
     "slide_type": "subslide"
    }
   },
   "source": [
    "### Local/Global Minima/Maxima\n",
    "\n",
    "<img src=\"https://www.edsonmelo.com.br/dados_csv/images/local-minima.png\" alt=\"local-minima\" style=\"width: 400px;\"/>"
   ]
  },
  {
   "cell_type": "markdown",
   "metadata": {
    "slideshow": {
     "slide_type": "subslide"
    }
   },
   "source": [
    "<img src=\"https://www.edsonmelo.com.br/dados_csv/images/gradient-descent-1.gif\" alt=\"gradient-descent-animation-2\" style=\"width: 500px;\"/>"
   ]
  },
  {
   "cell_type": "markdown",
   "metadata": {
    "slideshow": {
     "slide_type": "subslide"
    }
   },
   "source": [
    "<img src=\"https://www.edsonmelo.com.br/dados_csv/images/gradient-descent-3.gif\" alt=\"gradient-descent-animation-3\" style=\"width: 500px;\"/>"
   ]
  },
  {
   "cell_type": "markdown",
   "metadata": {
    "slideshow": {
     "slide_type": "slide"
    }
   },
   "source": [
    "### Tipos de Método do Gradiente (*Gradient Descent*)\n",
    "\n",
    "* *Batch Gradient Descent*: Dataset todo\n",
    "* *Stochastic Gradient Descent*: Um exemplo aleatório do Dataset\n",
    "* *Mini-batch Gradient Descent*: Amostras aleatórias do Dataset"
   ]
  },
  {
   "cell_type": "markdown",
   "metadata": {
    "slideshow": {
     "slide_type": "subslide"
    }
   },
   "source": [
    "\n",
    "<img src=\"https://www.edsonmelo.com.br/dados_csv/images/grad-descent-methods.png\" alt=\"grad-descent-methods\" style=\"width: 500px;\"/>"
   ]
  },
  {
   "cell_type": "markdown",
   "metadata": {},
   "source": [
    "# Referências Bibliográficas\n",
    "\n",
    "Os livros abaixo estão disponíveis **gratuitamente** na Biblioteca Uninove.\n",
    "\n",
    "* [Introduction to Machine Learning with Python](https://learning.oreilly.com/library/view/introduction-to-machine/9781449369880/)\n",
    "* [Mãos à Obra: Aprendizado de Máquina com Scikit-Learn e TensorFlow](https://learning.oreilly.com/library/view/maos-a-obra/9788550803814/)\n",
    "* [Python Machine Learning - Third Edition](https://learning.oreilly.com/library/view/python-machine-learning/9781789955750/)"
   ]
  },
  {
   "cell_type": "code",
   "execution_count": null,
   "metadata": {},
   "outputs": [],
   "source": []
  }
 ],
 "metadata": {
  "celltoolbar": "Slideshow",
  "kernelspec": {
   "display_name": "Python 3",
   "language": "python",
   "name": "python3"
  },
  "language_info": {
   "codemirror_mode": {
    "name": "ipython",
    "version": 3
   },
   "file_extension": ".py",
   "mimetype": "text/x-python",
   "name": "python",
   "nbconvert_exporter": "python",
   "pygments_lexer": "ipython3",
   "version": "3.8.5"
  }
 },
 "nbformat": 4,
 "nbformat_minor": 4
}
