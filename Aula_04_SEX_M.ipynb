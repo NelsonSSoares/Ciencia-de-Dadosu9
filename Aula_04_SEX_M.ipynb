{
  "nbformat": 4,
  "nbformat_minor": 0,
  "metadata": {
    "colab": {
      "name": "Aula 04 - SEX_M.ipynb",
      "provenance": [],
      "collapsed_sections": [],
      "include_colab_link": true
    },
    "kernelspec": {
      "name": "python3",
      "display_name": "Python 3"
    },
    "language_info": {
      "name": "python"
    }
  },
  "cells": [
    {
      "cell_type": "markdown",
      "metadata": {
        "id": "view-in-github",
        "colab_type": "text"
      },
      "source": [
        "<a href=\"https://colab.research.google.com/github/NelsonSSoares/AulasPython-u9/blob/main/CienciadeDadoa/Aula_04_SEX_M.ipynb\" target=\"_parent\"><img src=\"https://colab.research.google.com/assets/colab-badge.svg\" alt=\"Open In Colab\"/></a>"
      ]
    },
    {
      "cell_type": "markdown",
      "metadata": {
        "id": "c_Eo-0_rjvb3"
      },
      "source": [
        "# Estruturas de Repetição\n",
        "\n",
        "1. WHILE - equanto\n",
        "2. FOR - para"
      ]
    },
    {
      "cell_type": "markdown",
      "metadata": {
        "id": "Qsixg7cEj8EY"
      },
      "source": [
        "# WHILE\n",
        "```python\n",
        "while (<condição>):\n",
        "  <instruções a serem processadas enquanto a condição for verdadeira>\n",
        "```"
      ]
    },
    {
      "cell_type": "code",
      "metadata": {
        "id": "LBLocthJjLHf"
      },
      "source": [
        "contador = 0\n",
        "while(contador < 11): # enquanto a condição for True\n",
        "  print(contador)\n",
        "  contador += 1\n",
        "print('Fim do while')"
      ],
      "execution_count": null,
      "outputs": []
    },
    {
      "cell_type": "code",
      "metadata": {
        "id": "paVlrmpjk4Ji"
      },
      "source": [
        "# Truque da linha: colocar o parâmetro end=\"\" no print()\n",
        "contador = 0\n",
        "while(contador < 11): # enquanto a condição for True\n",
        "  print(contador, end=\" \")\n",
        "  contador += 1\n",
        "\n",
        "print('\\nFim do while')"
      ],
      "execution_count": null,
      "outputs": []
    },
    {
      "cell_type": "code",
      "metadata": {
        "id": "fIM4zPaglH1k"
      },
      "source": [
        "# Exemplo de saída com formatação #1\n",
        "contador = 0\n",
        "while(contador < 11):\n",
        "  print(f\"Contador: {contador}\") # usando máscaras\n",
        "  contador += 1"
      ],
      "execution_count": null,
      "outputs": []
    },
    {
      "cell_type": "code",
      "metadata": {
        "id": "oVkn2kCRltej"
      },
      "source": [
        "# Exemplo de saída com formatação #2\n",
        "contador = 0\n",
        "while(contador < 11):\n",
        "  print(\"Contador: {:,.2f}\".format(contador * 97.37))\n",
        "  contador += 1"
      ],
      "execution_count": null,
      "outputs": []
    },
    {
      "cell_type": "code",
      "metadata": {
        "id": "hnyL3e51m5t8"
      },
      "source": [
        "# Exemplo de saída com formatação #3\n",
        "contador = 0\n",
        "while(contador < 11):\n",
        "  print(f\"Contador: {contador * 0.37:.4f}\")\n",
        "  contador += 1"
      ],
      "execution_count": null,
      "outputs": []
    },
    {
      "cell_type": "markdown",
      "metadata": {
        "id": "H5QH8_xTpH1v"
      },
      "source": [
        "# Atividade\n",
        "1. Leia pelo teclado 5 notas e mostre a média entre elas."
      ]
    },
    {
      "cell_type": "code",
      "metadata": {
        "id": "tFq_ni1spKj8"
      },
      "source": [
        "count = 1 \n",
        "soma = 0\n",
        "while (count < 6):\n",
        "  valor = float(input(f\"Valor {count}: \"))\n",
        "  soma += valor\n",
        "  count += 1\n",
        "print('Soma: ', soma, 'Média: ', soma/(count-1))"
      ],
      "execution_count": null,
      "outputs": []
    },
    {
      "cell_type": "markdown",
      "metadata": {
        "id": "6uTgjy0DstJO"
      },
      "source": [
        "# FOR - para\n",
        "Este laço é caracterizado pela possibilidade de \"percorrer\" um conjunto de dados, sendo númericos ou textuais.\n",
        "\n",
        "```python\n",
        "for <variável> in <iterável>:\n",
        "  <intruções a serem processadas>\n",
        "```"
      ]
    },
    {
      "cell_type": "code",
      "metadata": {
        "id": "j_wUt6KrrbDU"
      },
      "source": [
        "# range(start, lenght) - é um intervalo, sempre -1\n",
        "for numero in range(0, 11):\n",
        "  print(numero)"
      ],
      "execution_count": null,
      "outputs": []
    },
    {
      "cell_type": "code",
      "metadata": {
        "id": "e7qplfsRtnSU"
      },
      "source": [
        "for n in range(10):\n",
        "  print(n)"
      ],
      "execution_count": null,
      "outputs": []
    },
    {
      "cell_type": "code",
      "metadata": {
        "id": "KDz1Y6aKtyos"
      },
      "source": [
        "# Saltando valores\n",
        "for n in range(1, 11): # step (passo)\n",
        "  print(n * 3)"
      ],
      "execution_count": null,
      "outputs": []
    },
    {
      "cell_type": "code",
      "metadata": {
        "id": "XQerYTBcueE5"
      },
      "source": [
        "# Percorrer textos\n",
        "nome = 'Edson Melo'\n",
        "for letra in nome:\n",
        "  print(letra, end=\" \")"
      ],
      "execution_count": null,
      "outputs": []
    },
    {
      "cell_type": "markdown",
      "metadata": {
        "id": "gB3Fd5rGvlXU"
      },
      "source": [
        "# Atividade\n",
        "Utilizando a frase \"Mais vale um pássaro na mão do que dois voando.\", processar:\n",
        "\n",
        "* Se o caractere for `a` ou `á`, trocar por `X`\n",
        "* Senãop imprimir o caractere original.\n",
        "\n"
      ]
    },
    {
      "cell_type": "code",
      "metadata": {
        "id": "cGq-BGMovNkH"
      },
      "source": [
        "frase = \"Mais vale um pássaro na mão do que dois voando.\"\n",
        "\n",
        "for letra in frase:\n",
        "  if (letra == 'a' or letra == 'á'):\n",
        "    letra = 'X'\n",
        "  print(letra, end=\"\")"
      ],
      "execution_count": null,
      "outputs": []
    },
    {
      "cell_type": "markdown",
      "metadata": {
        "id": "7XtpKC8Cy4_i"
      },
      "source": [
        "# Lista em Python\n",
        "São estruturas de dados similareas aos `arrays`, porém aceitam dados de qualquer tipo.\n",
        "\n",
        "```python\n",
        "variavel = []\n",
        "```"
      ]
    },
    {
      "cell_type": "code",
      "metadata": {
        "id": "GWHPNia7xhw2"
      },
      "source": [
        "nomes = ['Edson', 'Renata', 'Eric', 'Henrique']\n",
        "print(nomes)"
      ],
      "execution_count": null,
      "outputs": []
    },
    {
      "cell_type": "markdown",
      "metadata": {
        "id": "Nvn1F04Hzeq1"
      },
      "source": [
        "# Mostrar os nomes da lista separadamente"
      ]
    },
    {
      "cell_type": "code",
      "metadata": {
        "id": "J-C3GHtfzVOq"
      },
      "source": [
        "for nome in nomes:\n",
        "  print(nome)"
      ],
      "execution_count": null,
      "outputs": []
    },
    {
      "cell_type": "code",
      "metadata": {
        "id": "sp6mv3sNzvXM"
      },
      "source": [
        "# Acessando um item pelo índice\n",
        "print(nomes[0])\n",
        "print(nomes[1])\n",
        "print(nomes[2])"
      ],
      "execution_count": null,
      "outputs": []
    },
    {
      "cell_type": "code",
      "metadata": {
        "id": "vkpg9UKS0cmb"
      },
      "source": [
        "# Como saber qual é o índice? #1\n",
        "indice = 0\n",
        "for nome in nomes:\n",
        "  print(indice, nome)\n",
        "  indice += 1"
      ],
      "execution_count": null,
      "outputs": []
    },
    {
      "cell_type": "code",
      "metadata": {
        "id": "IbIdQm641iT4"
      },
      "source": [
        "# Como saber qual é o índice? #2\n",
        "for nome in nomes:\n",
        "  print(nomes.index(nome), nome)"
      ],
      "execution_count": null,
      "outputs": []
    },
    {
      "cell_type": "code",
      "metadata": {
        "id": "NtQ-3QO91xp8"
      },
      "source": [
        "# Como saber qual é o índice? #3\n",
        "for chave, nome in enumerate(nomes):\n",
        "  print(chave, nome)"
      ],
      "execution_count": null,
      "outputs": []
    },
    {
      "cell_type": "markdown",
      "metadata": {
        "id": "ANY4JWrv2aMn"
      },
      "source": [
        "# Operações com Listas\n",
        "\n",
        "* adição: `append(value)`\n",
        "* adição localizada: `insert(index, value)`\n",
        "* remoção: `remove(value)`\n",
        "* contagens de itens: `count()`\n",
        "* quantidade de itens: `len()`\n",
        "* ordenar crescente: `sort()`\n",
        "* ordenar decrescente: `reverse` - mas somente quando a lista estiver ordenada de forma crescente."
      ]
    },
    {
      "cell_type": "code",
      "metadata": {
        "id": "K_r-Ydvk14oO"
      },
      "source": [
        "# Adição\n",
        "\n",
        "unidades = []\n",
        "unidades.append('Memorial')\n",
        "unidades.append('Vila Maria')\n",
        "unidades.append('Vergueiro')\n",
        "unidades.append('Vergueiro')\n",
        "unidades.append('Agua Rasa')\n",
        "\n",
        "unidades.sort()\n",
        "unidades"
      ],
      "execution_count": null,
      "outputs": []
    },
    {
      "cell_type": "code",
      "metadata": {
        "id": "wqRcxaip3lvw"
      },
      "source": [
        "# Usar o reverse\n",
        "unidades.reverse()\n",
        "unidades"
      ],
      "execution_count": null,
      "outputs": []
    },
    {
      "cell_type": "code",
      "metadata": {
        "id": "JCRUVQef5gM7"
      },
      "source": [
        "# Tamanho de uma lista\n",
        "len(unidades)"
      ],
      "execution_count": null,
      "outputs": []
    },
    {
      "cell_type": "code",
      "metadata": {
        "id": "0VzohdYO5JS3"
      },
      "source": [
        "# Contar itens na lista (procurar por duplicados)\n",
        "unidades.count('Vergueiro')"
      ],
      "execution_count": null,
      "outputs": []
    },
    {
      "cell_type": "code",
      "metadata": {
        "id": "gyDKsqnO5-Yn"
      },
      "source": [
        "# Inserindo em um índice específico\n",
        "print(unidades)\n",
        "unidades.insert(2, 'Santo Amaro')\n",
        "print(unidades)"
      ],
      "execution_count": null,
      "outputs": []
    },
    {
      "cell_type": "code",
      "metadata": {
        "id": "pG2HDJSL6Q79"
      },
      "source": [
        "# Como remover?\n",
        "unidades.remove('Agua Rasa')\n",
        "print(unidades)"
      ],
      "execution_count": null,
      "outputs": []
    },
    {
      "cell_type": "code",
      "metadata": {
        "id": "vYV17Pdc6gDN"
      },
      "source": [
        "# Pertencimento de listas\n",
        "print( 'Vergueiro' in unidades)\n",
        "print( 'Tatuapé' in unidades)\n",
        "print( 'Campinas' not in unidades)"
      ],
      "execution_count": null,
      "outputs": []
    },
    {
      "cell_type": "code",
      "metadata": {
        "id": "1kAqs5Ew63dm"
      },
      "source": [
        "# Removendo os duplicados de uma só vez\n",
        "# Vamos usar o set()\n",
        "unidades = []\n",
        "unidades.append('Memorial')\n",
        "unidades.append('Vila Maria')\n",
        "unidades.append('Vergueiro')\n",
        "unidades.append('Vergueiro')\n",
        "unidades.append('Agua Rasa')\n",
        "\n",
        "unidades_deduplicadas = list(set(unidades).copy())\n",
        "unidades_deduplicadas"
      ],
      "execution_count": null,
      "outputs": []
    },
    {
      "cell_type": "code",
      "metadata": {
        "id": "aaipFwLo7hrp"
      },
      "source": [
        "print(unidades)\n",
        "print(unidades_deduplicadas)"
      ],
      "execution_count": null,
      "outputs": []
    },
    {
      "cell_type": "markdown",
      "metadata": {
        "id": "j9oxumlx89Ui"
      },
      "source": [
        "# Atividade\n",
        "\n",
        "* Crie uma lista com todos os número primos até $100$\n",
        "* Crie uma lista vazia chamada log_numeros_primos\n",
        "* Crie um for loop para cada item da lista de números primos e peça para calcular o `log` do item e adicioná-lo à lista log_numeros_primos\n",
        "* Imprima todos os items do décimo até o vigésimo da lista log_numeros_primos (cuidado com indexação não-inclusiva)"
      ]
    },
    {
      "cell_type": "code",
      "metadata": {
        "id": "scviQ5oH8P20"
      },
      "source": [
        ""
      ],
      "execution_count": null,
      "outputs": []
    }
  ]
}