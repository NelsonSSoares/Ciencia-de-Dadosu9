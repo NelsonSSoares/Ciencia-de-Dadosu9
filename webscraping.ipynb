{
  "nbformat": 4,
  "nbformat_minor": 0,
  "metadata": {
    "colab": {
      "name": "webscraping.ipynb",
      "provenance": [],
      "collapsed_sections": [],
      "authorship_tag": "ABX9TyPusPcv9SItFgteyuk8+sf0",
      "include_colab_link": true
    },
    "kernelspec": {
      "name": "python3",
      "display_name": "Python 3"
    },
    "language_info": {
      "name": "python"
    }
  },
  "cells": [
    {
      "cell_type": "markdown",
      "metadata": {
        "id": "view-in-github",
        "colab_type": "text"
      },
      "source": [
        "<a href=\"https://colab.research.google.com/github/NelsonSSoares/Ciencia-de-Dadosu9/blob/main/webscraping.ipynb\" target=\"_parent\"><img src=\"https://colab.research.google.com/assets/colab-badge.svg\" alt=\"Open In Colab\"/></a>"
      ]
    },
    {
      "cell_type": "code",
      "metadata": {
        "id": "NwTlX3YE90TZ"
      },
      "source": [
        "import requests #PARA ACESSAR URLS\n",
        "from bs4 import BeautifulSoup #Tratamento do HTML (PARSER)"
      ],
      "execution_count": null,
      "outputs": []
    },
    {
      "cell_type": "code",
      "metadata": {
        "id": "nBmRu4Wv-MhA"
      },
      "source": [
        "url = 'https://web.archive.org/web/20121007172955/https://www.nga.gov/collection/anZ1.htm'\n",
        "page = requests.get(url)\n"
      ],
      "execution_count": null,
      "outputs": []
    },
    {
      "cell_type": "code",
      "metadata": {
        "id": "TixjyQgC-4Wq"
      },
      "source": [
        "#Variavel para Tratar o HTML\n",
        "\n",
        "soup = BeautifulSoup(page.content, 'html.parser')"
      ],
      "execution_count": null,
      "outputs": []
    },
    {
      "cell_type": "code",
      "metadata": {
        "id": "Mu10ZkB0_cm2"
      },
      "source": [
        "#Vendo o que tem na Variavel soup\n",
        "print(soup.prettify())"
      ],
      "execution_count": null,
      "outputs": []
    },
    {
      "cell_type": "code",
      "metadata": {
        "id": "hqeQauxJ__nQ"
      },
      "source": [
        "#procura uma class dentro do HTML\n",
        "nome_dos_artistas = soup.find(class_='BodyText')\n",
        "print(nome_dos_artistas)"
      ],
      "execution_count": null,
      "outputs": []
    },
    {
      "cell_type": "code",
      "metadata": {
        "id": "rHSyXA0zBaL-"
      },
      "source": [
        "artistas_links = nome_dos_artistas.find_all('a')\n",
        "#percorre cada link e pegar apenas o valor contido entre a TAG <a>\n",
        "for link in artistas_links:\n",
        "  nome = link.contents[0]\n",
        "  print(nome)"
      ],
      "execution_count": null,
      "outputs": []
    },
    {
      "cell_type": "code",
      "metadata": {
        "id": "jrjHOh8BEBJp"
      },
      "source": [
        "lista_artistas = []\n",
        "for link in artistas_links:\n",
        "  lista_artistas.append(link.text)\n",
        "\n",
        "lista_artistas"
      ],
      "execution_count": null,
      "outputs": []
    },
    {
      "cell_type": "code",
      "metadata": {
        "id": "sk5SyD0AEi7V"
      },
      "source": [
        "import pandas as pd\n",
        "\n",
        "df = pd.DataFrame(lista_artistas)\n",
        "\n",
        "df.head()\n",
        "\n",
        "#import pandas as pd\n",
        "#df = pd.DataFrame(lista_artistas, columns={'artistas'})\n",
        "#df.head()\n",
        "#df.to_json('artistas.json')"
      ],
      "execution_count": null,
      "outputs": []
    },
    {
      "cell_type": "code",
      "metadata": {
        "id": "U71IqwdvFumL"
      },
      "source": [
        "# Usando o link: www.edsonmelo.com.br\n",
        "# Fazer o scraping de:\n",
        "# 1 - Mídias Sociais\n",
        "# 2 - Quais links existem nesta página?\n",
        "# 3 - Mostrar o \"alt\" das imagens do site soap.find_all(####, alt=true)\n",
        "\n",
        "page = requests.get('https://www.edsonmelo.com.br')\n",
        "soup = BeautifulSoup(page.content, 'html.parser')\n",
        "\n",
        "# 1 - Mídias Sociais\n",
        "soup.find_all('div', class_='social-links')"
      ],
      "execution_count": null,
      "outputs": []
    },
    {
      "cell_type": "code",
      "metadata": {
        "id": "sFgHCCp-Z2cq"
      },
      "source": [
        "for link in soup.find_all('a'):\n",
        "  print(link.get('href'))"
      ],
      "execution_count": null,
      "outputs": []
    },
    {
      "cell_type": "code",
      "metadata": {
        "id": "HNtN73k_Z4h3"
      },
      "source": [
        "# alt\n",
        "soup.find_all('img', alt=True)"
      ],
      "execution_count": null,
      "outputs": []
    },
    {
      "cell_type": "code",
      "metadata": {
        "id": "TBDH8yzYZ6oX"
      },
      "source": [
        ""
      ],
      "execution_count": null,
      "outputs": []
    }
  ]
}