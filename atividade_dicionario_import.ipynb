{
  "nbformat": 4,
  "nbformat_minor": 0,
  "metadata": {
    "colab": {
      "name": "atividade_dicionario_import.ipynb",
      "provenance": [],
      "collapsed_sections": [],
      "include_colab_link": true
    },
    "kernelspec": {
      "name": "python3",
      "display_name": "Python 3"
    },
    "language_info": {
      "name": "python"
    }
  },
  "cells": [
    {
      "cell_type": "markdown",
      "metadata": {
        "id": "view-in-github",
        "colab_type": "text"
      },
      "source": [
        "<a href=\"https://colab.research.google.com/github/NelsonSSoares/AulasPython-u9/blob/main/CienciadeDadoa/atividade_dicionario_import.ipynb\" target=\"_parent\"><img src=\"https://colab.research.google.com/assets/colab-badge.svg\" alt=\"Open In Colab\"/></a>"
      ]
    },
    {
      "cell_type": "markdown",
      "metadata": {
        "id": "GZFiYUzjjLnB"
      },
      "source": [
        "# ATIVIDADE Pandas"
      ]
    },
    {
      "cell_type": "markdown",
      "metadata": {
        "id": "PKhFfBxqj040"
      },
      "source": [
        "1. Importar a biblioteca do Pandas"
      ]
    },
    {
      "cell_type": "code",
      "metadata": {
        "id": "S-izL2-xkBF5"
      },
      "source": [
        "import pandas as pd"
      ],
      "execution_count": null,
      "outputs": []
    },
    {
      "cell_type": "markdown",
      "metadata": {
        "id": "I3-gBz0wjQyK"
      },
      "source": [
        "2. Importar os três `datasets` disponíveis no endereço: http://emsapi.esy.es/datasets/, definindo as variáveis, respectivamente como:\n",
        "    * `df_corona_limpo`\n",
        "    * `df_indice_alunos`\n",
        "    * `df_notas_alunos`"
      ]
    },
    {
      "cell_type": "code",
      "metadata": {
        "id": "OKJbqaV2jUc7"
      },
      "source": [
        "df_corona_limpo = pd.read_csv('http://emsapi.esy.es/datasets/corona_limpo.csv', sep = ',')\n",
        "df_indice_alunos = pd.read_excel('/content/indice_alunos.xlsx')\n",
        "df_notas_alunos = pd.read_csv('http://emsapi.esy.es/datasets/notas_alunos.csv', sep = ',')"
      ],
      "execution_count": null,
      "outputs": []
    },
    {
      "cell_type": "markdown",
      "metadata": {
        "id": "WrDLioV1kM3G"
      },
      "source": [
        "3. Mostrar quantas observações e quantas variáveis existem em `df_corona_limpo`"
      ]
    },
    {
      "cell_type": "code",
      "metadata": {
        "id": "Mc2pH0N2g0jM",
        "colab": {
          "base_uri": "https://localhost:8080/"
        },
        "outputId": "2f980456-1a17-4930-dcd9-cd96bd187486"
      },
      "source": [
        "df_corona_limpo.shape"
      ],
      "execution_count": null,
      "outputs": [
        {
          "output_type": "execute_result",
          "data": {
            "text/plain": [
              "(223, 28)"
            ]
          },
          "metadata": {},
          "execution_count": 11
        }
      ]
    },
    {
      "cell_type": "markdown",
      "metadata": {
        "id": "IiKnAfgKkbCk"
      },
      "source": [
        "4. Mostre individualmente o número de observações e o número de variáveis em `df_corona_limpo`"
      ]
    },
    {
      "cell_type": "code",
      "metadata": {
        "id": "oEorqSpGg0pr",
        "colab": {
          "base_uri": "https://localhost:8080/"
        },
        "outputId": "f1659b8d-fa6e-4bb3-e0fd-39e43798f971"
      },
      "source": [
        "df_corona_limpo.info()"
      ],
      "execution_count": null,
      "outputs": [
        {
          "output_type": "stream",
          "name": "stdout",
          "text": [
            "<class 'pandas.core.frame.DataFrame'>\n",
            "RangeIndex: 223 entries, 0 to 222\n",
            "Data columns (total 28 columns):\n",
            " #   Column                              Non-Null Count  Dtype  \n",
            "---  ------                              --------------  -----  \n",
            " 0   ObservationDate                     223 non-null    object \n",
            " 1   Country/Region                      223 non-null    object \n",
            " 2   Last Update                         223 non-null    object \n",
            " 3   Confirmed                           223 non-null    float64\n",
            " 4   Deaths                              223 non-null    float64\n",
            " 5   Recovered                           223 non-null    float64\n",
            " 6   Confirmed + Deaths                  223 non-null    float64\n",
            " 7   Death by Cases                      212 non-null    float64\n",
            " 8   Country                             187 non-null    object \n",
            " 9   Region                              187 non-null    object \n",
            " 10  Population                          187 non-null    float64\n",
            " 11  Area (sq. mi.)                      187 non-null    float64\n",
            " 12  Pop. Density (per sq. mi.)          187 non-null    float64\n",
            " 13  Coastline (coast/area ratio)        187 non-null    float64\n",
            " 14  Net migration                       186 non-null    float64\n",
            " 15  Infant mortality (per 1000 births)  186 non-null    float64\n",
            " 16  GDP ($ per capita)                  186 non-null    float64\n",
            " 17  Literacy (%)                        179 non-null    float64\n",
            " 18  Phones (per 1000)                   184 non-null    float64\n",
            " 19  Arable (%)                          185 non-null    float64\n",
            " 20  Crops (%)                           185 non-null    float64\n",
            " 21  Other (%)                           185 non-null    float64\n",
            " 22  Climate                             167 non-null    float64\n",
            " 23  Birthrate                           185 non-null    float64\n",
            " 24  Deathrate                           185 non-null    float64\n",
            " 25  Agriculture                         180 non-null    float64\n",
            " 26  Industry                            179 non-null    float64\n",
            " 27  Service                             180 non-null    float64\n",
            "dtypes: float64(23), object(5)\n",
            "memory usage: 48.9+ KB\n"
          ]
        }
      ]
    },
    {
      "cell_type": "markdown",
      "metadata": {
        "id": "EnIworp4ke5O"
      },
      "source": [
        "5. Mostre o maior valor da variável `Indice5` de `df_indice_alunos`"
      ]
    },
    {
      "cell_type": "code",
      "metadata": {
        "id": "9YiTCL0Sg0tE",
        "colab": {
          "base_uri": "https://localhost:8080/"
        },
        "outputId": "98ea69db-873b-4a5e-95f5-1b7e0f6f9db9"
      },
      "source": [
        "df_indice_alunos['Indice5'].max()\n"
      ],
      "execution_count": null,
      "outputs": [
        {
          "output_type": "execute_result",
          "data": {
            "text/plain": [
              "8.9907"
            ]
          },
          "metadata": {},
          "execution_count": 23
        }
      ]
    },
    {
      "cell_type": "markdown",
      "metadata": {
        "id": "u2HKK2QTknBL"
      },
      "source": [
        "6. Mostre as últimas **8** observações de `df_indice_alunos`"
      ]
    },
    {
      "cell_type": "code",
      "metadata": {
        "id": "-ZJmRWQ8g0v8",
        "colab": {
          "base_uri": "https://localhost:8080/",
          "height": 300
        },
        "outputId": "d37daac6-fc75-43b9-fcd9-b3a2615cf6c6"
      },
      "source": [
        "df_indice_alunos.tail(8)"
      ],
      "execution_count": null,
      "outputs": [
        {
          "output_type": "execute_result",
          "data": {
            "text/html": [
              "<div>\n",
              "<style scoped>\n",
              "    .dataframe tbody tr th:only-of-type {\n",
              "        vertical-align: middle;\n",
              "    }\n",
              "\n",
              "    .dataframe tbody tr th {\n",
              "        vertical-align: top;\n",
              "    }\n",
              "\n",
              "    .dataframe thead th {\n",
              "        text-align: right;\n",
              "    }\n",
              "</style>\n",
              "<table border=\"1\" class=\"dataframe\">\n",
              "  <thead>\n",
              "    <tr style=\"text-align: right;\">\n",
              "      <th></th>\n",
              "      <th>Nome</th>\n",
              "      <th>Indice1</th>\n",
              "      <th>Indice2</th>\n",
              "      <th>Indice3</th>\n",
              "      <th>Indice4</th>\n",
              "      <th>Indice5</th>\n",
              "    </tr>\n",
              "  </thead>\n",
              "  <tbody>\n",
              "    <tr>\n",
              "      <th>42</th>\n",
              "      <td>Querubim Carvalhais</td>\n",
              "      <td>7.4435</td>\n",
              "      <td>6.8862</td>\n",
              "      <td>6.3803</td>\n",
              "      <td>6.9054</td>\n",
              "      <td>4.7318</td>\n",
              "    </tr>\n",
              "    <tr>\n",
              "      <th>43</th>\n",
              "      <td>Renan Themes</td>\n",
              "      <td>5.2740</td>\n",
              "      <td>7.2817</td>\n",
              "      <td>7.7562</td>\n",
              "      <td>4.5162</td>\n",
              "      <td>5.3184</td>\n",
              "    </tr>\n",
              "    <tr>\n",
              "      <th>44</th>\n",
              "      <td>Renata Valle</td>\n",
              "      <td>7.1117</td>\n",
              "      <td>4.9454</td>\n",
              "      <td>7.0783</td>\n",
              "      <td>8.5155</td>\n",
              "      <td>6.4485</td>\n",
              "    </tr>\n",
              "    <tr>\n",
              "      <th>45</th>\n",
              "      <td>Silvério Portella</td>\n",
              "      <td>7.3471</td>\n",
              "      <td>8.0308</td>\n",
              "      <td>8.0765</td>\n",
              "      <td>7.5971</td>\n",
              "      <td>5.8140</td>\n",
              "    </tr>\n",
              "    <tr>\n",
              "      <th>46</th>\n",
              "      <td>Tomásia Araújo</td>\n",
              "      <td>7.6408</td>\n",
              "      <td>7.3267</td>\n",
              "      <td>6.4593</td>\n",
              "      <td>6.6186</td>\n",
              "      <td>7.3612</td>\n",
              "    </tr>\n",
              "    <tr>\n",
              "      <th>47</th>\n",
              "      <td>Tomé Marins</td>\n",
              "      <td>6.4260</td>\n",
              "      <td>7.5081</td>\n",
              "      <td>7.2841</td>\n",
              "      <td>7.9098</td>\n",
              "      <td>7.0052</td>\n",
              "    </tr>\n",
              "    <tr>\n",
              "      <th>48</th>\n",
              "      <td>Verónica Hidalgo</td>\n",
              "      <td>7.3363</td>\n",
              "      <td>6.0867</td>\n",
              "      <td>7.3824</td>\n",
              "      <td>8.1524</td>\n",
              "      <td>7.8140</td>\n",
              "    </tr>\n",
              "    <tr>\n",
              "      <th>49</th>\n",
              "      <td>Zeferino Granjeia</td>\n",
              "      <td>7.0438</td>\n",
              "      <td>6.9315</td>\n",
              "      <td>6.9814</td>\n",
              "      <td>6.5655</td>\n",
              "      <td>6.4922</td>\n",
              "    </tr>\n",
              "  </tbody>\n",
              "</table>\n",
              "</div>"
            ],
            "text/plain": [
              "                   Nome  Indice1  Indice2  Indice3  Indice4  Indice5\n",
              "42  Querubim Carvalhais   7.4435   6.8862   6.3803   6.9054   4.7318\n",
              "43         Renan Themes   5.2740   7.2817   7.7562   4.5162   5.3184\n",
              "44         Renata Valle   7.1117   4.9454   7.0783   8.5155   6.4485\n",
              "45    Silvério Portella   7.3471   8.0308   8.0765   7.5971   5.8140\n",
              "46       Tomásia Araújo   7.6408   7.3267   6.4593   6.6186   7.3612\n",
              "47          Tomé Marins   6.4260   7.5081   7.2841   7.9098   7.0052\n",
              "48     Verónica Hidalgo   7.3363   6.0867   7.3824   8.1524   7.8140\n",
              "49    Zeferino Granjeia   7.0438   6.9315   6.9814   6.5655   6.4922"
            ]
          },
          "metadata": {},
          "execution_count": 26
        }
      ]
    },
    {
      "cell_type": "markdown",
      "metadata": {
        "id": "9IySbpXJktgs"
      },
      "source": [
        "7. Qual o **tipo de dado** da variável `Nota4` de `df_notas_alunos`"
      ]
    },
    {
      "cell_type": "code",
      "metadata": {
        "id": "u4oGT_z2ikr4",
        "colab": {
          "base_uri": "https://localhost:8080/"
        },
        "outputId": "1169a473-42c8-47cc-f8ca-8feb0db19688"
      },
      "source": [
        "df_notas_alunos.info()"
      ],
      "execution_count": null,
      "outputs": [
        {
          "output_type": "stream",
          "name": "stdout",
          "text": [
            "<class 'pandas.core.frame.DataFrame'>\n",
            "RangeIndex: 50 entries, 0 to 49\n",
            "Data columns (total 6 columns):\n",
            " #   Column  Non-Null Count  Dtype  \n",
            "---  ------  --------------  -----  \n",
            " 0   Nome    50 non-null     object \n",
            " 1   Nota1   50 non-null     float64\n",
            " 2   Nota2   50 non-null     float64\n",
            " 3   Nota3   50 non-null     float64\n",
            " 4   Nota4   50 non-null     float64\n",
            " 5   Nota5   50 non-null     float64\n",
            "dtypes: float64(5), object(1)\n",
            "memory usage: 2.5+ KB\n"
          ]
        }
      ]
    },
    {
      "cell_type": "markdown",
      "metadata": {
        "id": "CKna8tLtlTrm"
      },
      "source": [
        "8. **Desafio** - Quantas observações existem no `dataset` disponível em:\n",
        " * https://perso.telecom-paristech.fr/eagan/class/igr204/data/nat1900-2017.tsv"
      ]
    },
    {
      "cell_type": "code",
      "metadata": {
        "id": "YoKjsdFLeR7T",
        "colab": {
          "base_uri": "https://localhost:8080/",
          "height": 519
        },
        "outputId": "df28893a-6a2d-45e8-f773-fdd8ed2c224d"
      },
      "source": [
        "dataset = pd.read_csv('/content/nat1900-2017.tsv', sep='\\t')\n",
        "\n",
        "dataset"
      ],
      "execution_count": null,
      "outputs": [
        {
          "output_type": "error",
          "ename": "ParserError",
          "evalue": "ignored",
          "traceback": [
            "\u001b[0;31m---------------------------------------------------------------------------\u001b[0m",
            "\u001b[0;31mParserError\u001b[0m                               Traceback (most recent call last)",
            "\u001b[0;32m<ipython-input-57-5ce9217c12bc>\u001b[0m in \u001b[0;36m<module>\u001b[0;34m()\u001b[0m\n\u001b[0;32m----> 1\u001b[0;31m \u001b[0mdataset\u001b[0m \u001b[0;34m=\u001b[0m \u001b[0mpd\u001b[0m\u001b[0;34m.\u001b[0m\u001b[0mread_csv\u001b[0m\u001b[0;34m(\u001b[0m\u001b[0;34m'/content/nat1900-2017.tsv'\u001b[0m\u001b[0;34m,\u001b[0m \u001b[0msep\u001b[0m\u001b[0;34m=\u001b[0m\u001b[0;34m'\\t'\u001b[0m\u001b[0;34m)\u001b[0m\u001b[0;34m\u001b[0m\u001b[0;34m\u001b[0m\u001b[0m\n\u001b[0m\u001b[1;32m      2\u001b[0m \u001b[0;34m\u001b[0m\u001b[0m\n\u001b[1;32m      3\u001b[0m \u001b[0mdataset\u001b[0m\u001b[0;34m\u001b[0m\u001b[0;34m\u001b[0m\u001b[0m\n",
            "\u001b[0;32m/usr/local/lib/python3.7/dist-packages/pandas/io/parsers.py\u001b[0m in \u001b[0;36mread_csv\u001b[0;34m(filepath_or_buffer, sep, delimiter, header, names, index_col, usecols, squeeze, prefix, mangle_dupe_cols, dtype, engine, converters, true_values, false_values, skipinitialspace, skiprows, skipfooter, nrows, na_values, keep_default_na, na_filter, verbose, skip_blank_lines, parse_dates, infer_datetime_format, keep_date_col, date_parser, dayfirst, cache_dates, iterator, chunksize, compression, thousands, decimal, lineterminator, quotechar, quoting, doublequote, escapechar, comment, encoding, dialect, error_bad_lines, warn_bad_lines, delim_whitespace, low_memory, memory_map, float_precision)\u001b[0m\n\u001b[1;32m    686\u001b[0m     )\n\u001b[1;32m    687\u001b[0m \u001b[0;34m\u001b[0m\u001b[0m\n\u001b[0;32m--> 688\u001b[0;31m     \u001b[0;32mreturn\u001b[0m \u001b[0m_read\u001b[0m\u001b[0;34m(\u001b[0m\u001b[0mfilepath_or_buffer\u001b[0m\u001b[0;34m,\u001b[0m \u001b[0mkwds\u001b[0m\u001b[0;34m)\u001b[0m\u001b[0;34m\u001b[0m\u001b[0;34m\u001b[0m\u001b[0m\n\u001b[0m\u001b[1;32m    689\u001b[0m \u001b[0;34m\u001b[0m\u001b[0m\n\u001b[1;32m    690\u001b[0m \u001b[0;34m\u001b[0m\u001b[0m\n",
            "\u001b[0;32m/usr/local/lib/python3.7/dist-packages/pandas/io/parsers.py\u001b[0m in \u001b[0;36m_read\u001b[0;34m(filepath_or_buffer, kwds)\u001b[0m\n\u001b[1;32m    458\u001b[0m \u001b[0;34m\u001b[0m\u001b[0m\n\u001b[1;32m    459\u001b[0m     \u001b[0;32mtry\u001b[0m\u001b[0;34m:\u001b[0m\u001b[0;34m\u001b[0m\u001b[0;34m\u001b[0m\u001b[0m\n\u001b[0;32m--> 460\u001b[0;31m         \u001b[0mdata\u001b[0m \u001b[0;34m=\u001b[0m \u001b[0mparser\u001b[0m\u001b[0;34m.\u001b[0m\u001b[0mread\u001b[0m\u001b[0;34m(\u001b[0m\u001b[0mnrows\u001b[0m\u001b[0;34m)\u001b[0m\u001b[0;34m\u001b[0m\u001b[0;34m\u001b[0m\u001b[0m\n\u001b[0m\u001b[1;32m    461\u001b[0m     \u001b[0;32mfinally\u001b[0m\u001b[0;34m:\u001b[0m\u001b[0;34m\u001b[0m\u001b[0;34m\u001b[0m\u001b[0m\n\u001b[1;32m    462\u001b[0m         \u001b[0mparser\u001b[0m\u001b[0;34m.\u001b[0m\u001b[0mclose\u001b[0m\u001b[0;34m(\u001b[0m\u001b[0;34m)\u001b[0m\u001b[0;34m\u001b[0m\u001b[0;34m\u001b[0m\u001b[0m\n",
            "\u001b[0;32m/usr/local/lib/python3.7/dist-packages/pandas/io/parsers.py\u001b[0m in \u001b[0;36mread\u001b[0;34m(self, nrows)\u001b[0m\n\u001b[1;32m   1196\u001b[0m     \u001b[0;32mdef\u001b[0m \u001b[0mread\u001b[0m\u001b[0;34m(\u001b[0m\u001b[0mself\u001b[0m\u001b[0;34m,\u001b[0m \u001b[0mnrows\u001b[0m\u001b[0;34m=\u001b[0m\u001b[0;32mNone\u001b[0m\u001b[0;34m)\u001b[0m\u001b[0;34m:\u001b[0m\u001b[0;34m\u001b[0m\u001b[0;34m\u001b[0m\u001b[0m\n\u001b[1;32m   1197\u001b[0m         \u001b[0mnrows\u001b[0m \u001b[0;34m=\u001b[0m \u001b[0m_validate_integer\u001b[0m\u001b[0;34m(\u001b[0m\u001b[0;34m\"nrows\"\u001b[0m\u001b[0;34m,\u001b[0m \u001b[0mnrows\u001b[0m\u001b[0;34m)\u001b[0m\u001b[0;34m\u001b[0m\u001b[0;34m\u001b[0m\u001b[0m\n\u001b[0;32m-> 1198\u001b[0;31m         \u001b[0mret\u001b[0m \u001b[0;34m=\u001b[0m \u001b[0mself\u001b[0m\u001b[0;34m.\u001b[0m\u001b[0m_engine\u001b[0m\u001b[0;34m.\u001b[0m\u001b[0mread\u001b[0m\u001b[0;34m(\u001b[0m\u001b[0mnrows\u001b[0m\u001b[0;34m)\u001b[0m\u001b[0;34m\u001b[0m\u001b[0;34m\u001b[0m\u001b[0m\n\u001b[0m\u001b[1;32m   1199\u001b[0m \u001b[0;34m\u001b[0m\u001b[0m\n\u001b[1;32m   1200\u001b[0m         \u001b[0;31m# May alter columns / col_dict\u001b[0m\u001b[0;34m\u001b[0m\u001b[0;34m\u001b[0m\u001b[0;34m\u001b[0m\u001b[0m\n",
            "\u001b[0;32m/usr/local/lib/python3.7/dist-packages/pandas/io/parsers.py\u001b[0m in \u001b[0;36mread\u001b[0;34m(self, nrows)\u001b[0m\n\u001b[1;32m   2155\u001b[0m     \u001b[0;32mdef\u001b[0m \u001b[0mread\u001b[0m\u001b[0;34m(\u001b[0m\u001b[0mself\u001b[0m\u001b[0;34m,\u001b[0m \u001b[0mnrows\u001b[0m\u001b[0;34m=\u001b[0m\u001b[0;32mNone\u001b[0m\u001b[0;34m)\u001b[0m\u001b[0;34m:\u001b[0m\u001b[0;34m\u001b[0m\u001b[0;34m\u001b[0m\u001b[0m\n\u001b[1;32m   2156\u001b[0m         \u001b[0;32mtry\u001b[0m\u001b[0;34m:\u001b[0m\u001b[0;34m\u001b[0m\u001b[0;34m\u001b[0m\u001b[0m\n\u001b[0;32m-> 2157\u001b[0;31m             \u001b[0mdata\u001b[0m \u001b[0;34m=\u001b[0m \u001b[0mself\u001b[0m\u001b[0;34m.\u001b[0m\u001b[0m_reader\u001b[0m\u001b[0;34m.\u001b[0m\u001b[0mread\u001b[0m\u001b[0;34m(\u001b[0m\u001b[0mnrows\u001b[0m\u001b[0;34m)\u001b[0m\u001b[0;34m\u001b[0m\u001b[0;34m\u001b[0m\u001b[0m\n\u001b[0m\u001b[1;32m   2158\u001b[0m         \u001b[0;32mexcept\u001b[0m \u001b[0mStopIteration\u001b[0m\u001b[0;34m:\u001b[0m\u001b[0;34m\u001b[0m\u001b[0;34m\u001b[0m\u001b[0m\n\u001b[1;32m   2159\u001b[0m             \u001b[0;32mif\u001b[0m \u001b[0mself\u001b[0m\u001b[0;34m.\u001b[0m\u001b[0m_first_chunk\u001b[0m\u001b[0;34m:\u001b[0m\u001b[0;34m\u001b[0m\u001b[0;34m\u001b[0m\u001b[0m\n",
            "\u001b[0;32mpandas/_libs/parsers.pyx\u001b[0m in \u001b[0;36mpandas._libs.parsers.TextReader.read\u001b[0;34m()\u001b[0m\n",
            "\u001b[0;32mpandas/_libs/parsers.pyx\u001b[0m in \u001b[0;36mpandas._libs.parsers.TextReader._read_low_memory\u001b[0;34m()\u001b[0m\n",
            "\u001b[0;32mpandas/_libs/parsers.pyx\u001b[0m in \u001b[0;36mpandas._libs.parsers.TextReader._read_rows\u001b[0;34m()\u001b[0m\n",
            "\u001b[0;32mpandas/_libs/parsers.pyx\u001b[0m in \u001b[0;36mpandas._libs.parsers.TextReader._tokenize_rows\u001b[0;34m()\u001b[0m\n",
            "\u001b[0;32mpandas/_libs/parsers.pyx\u001b[0m in \u001b[0;36mpandas._libs.parsers.raise_parser_error\u001b[0;34m()\u001b[0m\n",
            "\u001b[0;31mParserError\u001b[0m: Error tokenizing data. C error: Expected 4 fields in line 57733, saw 5\n"
          ]
        }
      ]
    }
  ]
}